{
  "nbformat": 4,
  "nbformat_minor": 0,
  "metadata": {
    "colab": {
      "name": "RainPrediction_using_ANN.ipynb",
      "provenance": [],
      "authorship_tag": "ABX9TyOMlrNpc0vzw5KL/c2DGdg2",
      "include_colab_link": true
    },
    "kernelspec": {
      "name": "python3",
      "display_name": "Python 3"
    }
  },
  "cells": [
    {
      "cell_type": "markdown",
      "metadata": {
        "id": "view-in-github",
        "colab_type": "text"
      },
      "source": [
        "<a href=\"https://colab.research.google.com/github/Surya-teja-888/IPL-Dataset-Player-price-prediction/blob/master/RainPrediction_using_ANN.ipynb\" target=\"_parent\"><img src=\"https://colab.research.google.com/assets/colab-badge.svg\" alt=\"Open In Colab\"/></a>"
      ]
    },
    {
      "cell_type": "code",
      "metadata": {
        "colab": {
          "resources": {
            "http://localhost:8080/nbextensions/google.colab/files.js": {
              "data": "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",
              "ok": true,
              "headers": [
                [
                  "content-type",
                  "application/javascript"
                ]
              ],
              "status": 200,
              "status_text": ""
            }
          },
          "base_uri": "https://localhost:8080/",
          "height": 74
        },
        "id": "yMrvplhZqyfy",
        "outputId": "d9afaa6b-a05f-4665-85b4-0bec040d3eee"
      },
      "source": [
        "from google.colab import files\r\n",
        "upload = files.upload()"
      ],
      "execution_count": 1,
      "outputs": [
        {
          "output_type": "display_data",
          "data": {
            "text/html": [
              "\n",
              "     <input type=\"file\" id=\"files-bd68e42c-c6aa-461b-8723-1b5aede8a546\" name=\"files[]\" multiple disabled\n",
              "        style=\"border:none\" />\n",
              "     <output id=\"result-bd68e42c-c6aa-461b-8723-1b5aede8a546\">\n",
              "      Upload widget is only available when the cell has been executed in the\n",
              "      current browser session. Please rerun this cell to enable.\n",
              "      </output>\n",
              "      <script src=\"/nbextensions/google.colab/files.js\"></script> "
            ],
            "text/plain": [
              "<IPython.core.display.HTML object>"
            ]
          },
          "metadata": {
            "tags": []
          }
        },
        {
          "output_type": "stream",
          "text": [
            "Saving Australia_rainfall.csv to Australia_rainfall.csv\n"
          ],
          "name": "stdout"
        }
      ]
    },
    {
      "cell_type": "code",
      "metadata": {
        "id": "m17TvvD4rAuV"
      },
      "source": [
        "# Importing the Modules\r\n",
        "import pandas as pd\r\n",
        "import numpy as np\r\n",
        "import matplotlib.pyplot as plt\r\n",
        "import seaborn as sns\r\n",
        "import keras\r\n",
        "from keras import layers\r\n",
        "from keras.models import Sequential\r\n",
        "from sklearn.model_selection import train_test_split\r\n",
        "from sklearn.preprocessing import StandardScaler\r\n",
        "from sklearn import metrics\r\n",
        "import datetime\r\n",
        "import warnings\r\n",
        "warnings.filterwarnings(\"ignore\")"
      ],
      "execution_count": 2,
      "outputs": []
    },
    {
      "cell_type": "markdown",
      "metadata": {
        "id": "itquJ9sFsDMM"
      },
      "source": [
        "Loading Data"
      ]
    },
    {
      "cell_type": "code",
      "metadata": {
        "colab": {
          "base_uri": "https://localhost:8080/",
          "height": 383
        },
        "id": "cIWdzGw_sF89",
        "outputId": "5a5473f6-1ab9-4173-faa5-898a97171a28"
      },
      "source": [
        "data = pd.read_csv(\"Australia_rainfall.csv\")\r\n",
        "data.head()"
      ],
      "execution_count": 4,
      "outputs": [
        {
          "output_type": "execute_result",
          "data": {
            "text/html": [
              "<div>\n",
              "<style scoped>\n",
              "    .dataframe tbody tr th:only-of-type {\n",
              "        vertical-align: middle;\n",
              "    }\n",
              "\n",
              "    .dataframe tbody tr th {\n",
              "        vertical-align: top;\n",
              "    }\n",
              "\n",
              "    .dataframe thead th {\n",
              "        text-align: right;\n",
              "    }\n",
              "</style>\n",
              "<table border=\"1\" class=\"dataframe\">\n",
              "  <thead>\n",
              "    <tr style=\"text-align: right;\">\n",
              "      <th></th>\n",
              "      <th>Date</th>\n",
              "      <th>Location</th>\n",
              "      <th>MinTemp</th>\n",
              "      <th>MaxTemp</th>\n",
              "      <th>Rainfall</th>\n",
              "      <th>Evaporation</th>\n",
              "      <th>Sunshine</th>\n",
              "      <th>WindGustDir</th>\n",
              "      <th>WindGustSpeed</th>\n",
              "      <th>WindDir9am</th>\n",
              "      <th>WindDir3pm</th>\n",
              "      <th>WindSpeed9am</th>\n",
              "      <th>WindSpeed3pm</th>\n",
              "      <th>Humidity9am</th>\n",
              "      <th>Humidity3pm</th>\n",
              "      <th>Pressure9am</th>\n",
              "      <th>Pressure3pm</th>\n",
              "      <th>Cloud9am</th>\n",
              "      <th>Cloud3pm</th>\n",
              "      <th>Temp9am</th>\n",
              "      <th>Temp3pm</th>\n",
              "      <th>RainToday</th>\n",
              "      <th>RainTomorrow</th>\n",
              "    </tr>\n",
              "  </thead>\n",
              "  <tbody>\n",
              "    <tr>\n",
              "      <th>0</th>\n",
              "      <td>01-12-2008</td>\n",
              "      <td>Albury</td>\n",
              "      <td>13.4</td>\n",
              "      <td>22.9</td>\n",
              "      <td>0.6</td>\n",
              "      <td>NaN</td>\n",
              "      <td>NaN</td>\n",
              "      <td>W</td>\n",
              "      <td>44.0</td>\n",
              "      <td>W</td>\n",
              "      <td>WNW</td>\n",
              "      <td>20.0</td>\n",
              "      <td>24.0</td>\n",
              "      <td>71.0</td>\n",
              "      <td>22.0</td>\n",
              "      <td>1007.7</td>\n",
              "      <td>1007.1</td>\n",
              "      <td>8.0</td>\n",
              "      <td>NaN</td>\n",
              "      <td>16.9</td>\n",
              "      <td>21.8</td>\n",
              "      <td>No</td>\n",
              "      <td>No</td>\n",
              "    </tr>\n",
              "    <tr>\n",
              "      <th>1</th>\n",
              "      <td>02-12-2008</td>\n",
              "      <td>Albury</td>\n",
              "      <td>7.4</td>\n",
              "      <td>25.1</td>\n",
              "      <td>0.0</td>\n",
              "      <td>NaN</td>\n",
              "      <td>NaN</td>\n",
              "      <td>WNW</td>\n",
              "      <td>44.0</td>\n",
              "      <td>NNW</td>\n",
              "      <td>WSW</td>\n",
              "      <td>4.0</td>\n",
              "      <td>22.0</td>\n",
              "      <td>44.0</td>\n",
              "      <td>25.0</td>\n",
              "      <td>1010.6</td>\n",
              "      <td>1007.8</td>\n",
              "      <td>NaN</td>\n",
              "      <td>NaN</td>\n",
              "      <td>17.2</td>\n",
              "      <td>24.3</td>\n",
              "      <td>No</td>\n",
              "      <td>No</td>\n",
              "    </tr>\n",
              "    <tr>\n",
              "      <th>2</th>\n",
              "      <td>03-12-2008</td>\n",
              "      <td>Albury</td>\n",
              "      <td>12.9</td>\n",
              "      <td>25.7</td>\n",
              "      <td>0.0</td>\n",
              "      <td>NaN</td>\n",
              "      <td>NaN</td>\n",
              "      <td>WSW</td>\n",
              "      <td>46.0</td>\n",
              "      <td>W</td>\n",
              "      <td>WSW</td>\n",
              "      <td>19.0</td>\n",
              "      <td>26.0</td>\n",
              "      <td>38.0</td>\n",
              "      <td>30.0</td>\n",
              "      <td>1007.6</td>\n",
              "      <td>1008.7</td>\n",
              "      <td>NaN</td>\n",
              "      <td>2.0</td>\n",
              "      <td>21.0</td>\n",
              "      <td>23.2</td>\n",
              "      <td>No</td>\n",
              "      <td>No</td>\n",
              "    </tr>\n",
              "    <tr>\n",
              "      <th>3</th>\n",
              "      <td>04-12-2008</td>\n",
              "      <td>Albury</td>\n",
              "      <td>9.2</td>\n",
              "      <td>28.0</td>\n",
              "      <td>0.0</td>\n",
              "      <td>NaN</td>\n",
              "      <td>NaN</td>\n",
              "      <td>NE</td>\n",
              "      <td>24.0</td>\n",
              "      <td>SE</td>\n",
              "      <td>E</td>\n",
              "      <td>11.0</td>\n",
              "      <td>9.0</td>\n",
              "      <td>45.0</td>\n",
              "      <td>16.0</td>\n",
              "      <td>1017.6</td>\n",
              "      <td>1012.8</td>\n",
              "      <td>NaN</td>\n",
              "      <td>NaN</td>\n",
              "      <td>18.1</td>\n",
              "      <td>26.5</td>\n",
              "      <td>No</td>\n",
              "      <td>No</td>\n",
              "    </tr>\n",
              "    <tr>\n",
              "      <th>4</th>\n",
              "      <td>05-12-2008</td>\n",
              "      <td>Albury</td>\n",
              "      <td>17.5</td>\n",
              "      <td>32.3</td>\n",
              "      <td>1.0</td>\n",
              "      <td>NaN</td>\n",
              "      <td>NaN</td>\n",
              "      <td>W</td>\n",
              "      <td>41.0</td>\n",
              "      <td>ENE</td>\n",
              "      <td>NW</td>\n",
              "      <td>7.0</td>\n",
              "      <td>20.0</td>\n",
              "      <td>82.0</td>\n",
              "      <td>33.0</td>\n",
              "      <td>1010.8</td>\n",
              "      <td>1006.0</td>\n",
              "      <td>7.0</td>\n",
              "      <td>8.0</td>\n",
              "      <td>17.8</td>\n",
              "      <td>29.7</td>\n",
              "      <td>No</td>\n",
              "      <td>No</td>\n",
              "    </tr>\n",
              "  </tbody>\n",
              "</table>\n",
              "</div>"
            ],
            "text/plain": [
              "         Date Location  MinTemp  ...  Temp3pm  RainToday  RainTomorrow\n",
              "0  01-12-2008   Albury     13.4  ...     21.8         No            No\n",
              "1  02-12-2008   Albury      7.4  ...     24.3         No            No\n",
              "2  03-12-2008   Albury     12.9  ...     23.2         No            No\n",
              "3  04-12-2008   Albury      9.2  ...     26.5         No            No\n",
              "4  05-12-2008   Albury     17.5  ...     29.7         No            No\n",
              "\n",
              "[5 rows x 23 columns]"
            ]
          },
          "metadata": {
            "tags": []
          },
          "execution_count": 4
        }
      ]
    },
    {
      "cell_type": "markdown",
      "metadata": {
        "id": "JLh0TPfysPUH"
      },
      "source": [
        "Data Preprocessing"
      ]
    },
    {
      "cell_type": "code",
      "metadata": {
        "colab": {
          "base_uri": "https://localhost:8080/"
        },
        "id": "jPaGLTyPsRlY",
        "outputId": "c073d5ca-6d43-476b-9be7-4abec15f3914"
      },
      "source": [
        "# Checking for NaN values\r\n",
        "data.isnull().sum()"
      ],
      "execution_count": 5,
      "outputs": [
        {
          "output_type": "execute_result",
          "data": {
            "text/plain": [
              "Date                 0\n",
              "Location             0\n",
              "MinTemp           1485\n",
              "MaxTemp           1261\n",
              "Rainfall          3261\n",
              "Evaporation      62790\n",
              "Sunshine         69835\n",
              "WindGustDir      10326\n",
              "WindGustSpeed    10263\n",
              "WindDir9am       10566\n",
              "WindDir3pm        4228\n",
              "WindSpeed9am      1767\n",
              "WindSpeed3pm      3062\n",
              "Humidity9am       2654\n",
              "Humidity3pm       4507\n",
              "Pressure9am      15065\n",
              "Pressure3pm      15028\n",
              "Cloud9am         55888\n",
              "Cloud3pm         59358\n",
              "Temp9am           1767\n",
              "Temp3pm           3609\n",
              "RainToday         3261\n",
              "RainTomorrow      3267\n",
              "dtype: int64"
            ]
          },
          "metadata": {
            "tags": []
          },
          "execution_count": 5
        }
      ]
    },
    {
      "cell_type": "code",
      "metadata": {
        "id": "DcQVhbhGsXts"
      },
      "source": [
        "# Almost Every column in the data contains NaN values\r\n",
        "# We need to replace the values with other values like mean, mode\r\n",
        "# For Numerical data we can replace NaN values with mean()\r\n",
        "# For Categorical data we can replace NaN values with mode()"
      ],
      "execution_count": 6,
      "outputs": []
    },
    {
      "cell_type": "code",
      "metadata": {
        "colab": {
          "base_uri": "https://localhost:8080/"
        },
        "id": "6ZO6gGvlsbx4",
        "outputId": "d0513532-4196-41a1-f34c-45cefc8c6933"
      },
      "source": [
        "# taking categorical_columns from the data\r\n",
        "categorical_columns = (data.dtypes == \"object\")\r\n",
        "categorical_list = list(categorical_columns[categorical_columns].index)\r\n",
        "print(categorical_list)"
      ],
      "execution_count": 7,
      "outputs": [
        {
          "output_type": "stream",
          "text": [
            "['Date', 'Location', 'WindGustDir', 'WindDir9am', 'WindDir3pm', 'RainToday', 'RainTomorrow']\n"
          ],
          "name": "stdout"
        }
      ]
    },
    {
      "cell_type": "code",
      "metadata": {
        "id": "qATRaBqFskhA"
      },
      "source": [
        "# Replacing NaN values with mode()\r\n",
        "for i in categorical_list:\r\n",
        "    data[i].fillna(data[i].mode()[0],inplace = True)"
      ],
      "execution_count": 8,
      "outputs": []
    },
    {
      "cell_type": "code",
      "metadata": {
        "id": "r0uPhq3wss47"
      },
      "source": [
        "# We replaced categorical columns with mode()\r\n",
        "# Now it's time to replace Numerical columns with mean() of the Numerical columns\r\n",
        "# taking numerical_data from the data\r\n",
        "numerical_columns = (data.dtypes == \"float64\")\r\n",
        "numerical_list = list(numerical_columns[numerical_columns].index)"
      ],
      "execution_count": 9,
      "outputs": []
    },
    {
      "cell_type": "code",
      "metadata": {
        "id": "Y7Yqv6Zcsyb9"
      },
      "source": [
        "# Replacing Numerical_columns with mean()\r\n",
        "for i in numerical_list:\r\n",
        "    data[i].fillna(data[i].mean(),inplace = True)"
      ],
      "execution_count": 10,
      "outputs": []
    },
    {
      "cell_type": "code",
      "metadata": {
        "colab": {
          "base_uri": "https://localhost:8080/"
        },
        "id": "oOliuL1zs7qA",
        "outputId": "5f50b84b-798a-42f3-f487-452585a0764a"
      },
      "source": [
        "# Ckecking NaN values\r\n",
        "data.isnull().sum()"
      ],
      "execution_count": 11,
      "outputs": [
        {
          "output_type": "execute_result",
          "data": {
            "text/plain": [
              "Date             0\n",
              "Location         0\n",
              "MinTemp          0\n",
              "MaxTemp          0\n",
              "Rainfall         0\n",
              "Evaporation      0\n",
              "Sunshine         0\n",
              "WindGustDir      0\n",
              "WindGustSpeed    0\n",
              "WindDir9am       0\n",
              "WindDir3pm       0\n",
              "WindSpeed9am     0\n",
              "WindSpeed3pm     0\n",
              "Humidity9am      0\n",
              "Humidity3pm      0\n",
              "Pressure9am      0\n",
              "Pressure3pm      0\n",
              "Cloud9am         0\n",
              "Cloud3pm         0\n",
              "Temp9am          0\n",
              "Temp3pm          0\n",
              "RainToday        0\n",
              "RainTomorrow     0\n",
              "dtype: int64"
            ]
          },
          "metadata": {
            "tags": []
          },
          "execution_count": 11
        }
      ]
    },
    {
      "cell_type": "code",
      "metadata": {
        "id": "xzr54GU7tN13"
      },
      "source": [
        "new_data = data.drop([\"Date\",\"Location\"],axis = 1)"
      ],
      "execution_count": 16,
      "outputs": []
    },
    {
      "cell_type": "markdown",
      "metadata": {
        "id": "5mrzeebftCo9"
      },
      "source": [
        "Now it's time to Encode categorical features"
      ]
    },
    {
      "cell_type": "code",
      "metadata": {
        "colab": {
          "base_uri": "https://localhost:8080/",
          "height": 215
        },
        "id": "cm-zPmQDtIvF",
        "outputId": "79a0fe88-801a-4f15-a5fb-f270671189ff"
      },
      "source": [
        "x_features = new_data.columns\r\n",
        "categorical_features = [\"WindGustDir\",\"WindDir9am\",\"WindDir3pm\",\"RainToday\",\"RainTomorrow\"]\r\n",
        "encoded_data = pd.get_dummies(new_data[x_features],columns = categorical_features,drop_first = True)\r\n",
        "encoded_data.head()"
      ],
      "execution_count": 19,
      "outputs": [
        {
          "output_type": "execute_result",
          "data": {
            "text/html": [
              "<div>\n",
              "<style scoped>\n",
              "    .dataframe tbody tr th:only-of-type {\n",
              "        vertical-align: middle;\n",
              "    }\n",
              "\n",
              "    .dataframe tbody tr th {\n",
              "        vertical-align: top;\n",
              "    }\n",
              "\n",
              "    .dataframe thead th {\n",
              "        text-align: right;\n",
              "    }\n",
              "</style>\n",
              "<table border=\"1\" class=\"dataframe\">\n",
              "  <thead>\n",
              "    <tr style=\"text-align: right;\">\n",
              "      <th></th>\n",
              "      <th>MinTemp</th>\n",
              "      <th>MaxTemp</th>\n",
              "      <th>Rainfall</th>\n",
              "      <th>Evaporation</th>\n",
              "      <th>Sunshine</th>\n",
              "      <th>WindGustSpeed</th>\n",
              "      <th>WindSpeed9am</th>\n",
              "      <th>WindSpeed3pm</th>\n",
              "      <th>Humidity9am</th>\n",
              "      <th>Humidity3pm</th>\n",
              "      <th>Pressure9am</th>\n",
              "      <th>Pressure3pm</th>\n",
              "      <th>Cloud9am</th>\n",
              "      <th>Cloud3pm</th>\n",
              "      <th>Temp9am</th>\n",
              "      <th>Temp3pm</th>\n",
              "      <th>WindGustDir_ENE</th>\n",
              "      <th>WindGustDir_ESE</th>\n",
              "      <th>WindGustDir_N</th>\n",
              "      <th>WindGustDir_NE</th>\n",
              "      <th>WindGustDir_NNE</th>\n",
              "      <th>WindGustDir_NNW</th>\n",
              "      <th>WindGustDir_NW</th>\n",
              "      <th>WindGustDir_S</th>\n",
              "      <th>WindGustDir_SE</th>\n",
              "      <th>WindGustDir_SSE</th>\n",
              "      <th>WindGustDir_SSW</th>\n",
              "      <th>WindGustDir_SW</th>\n",
              "      <th>WindGustDir_W</th>\n",
              "      <th>WindGustDir_WNW</th>\n",
              "      <th>WindGustDir_WSW</th>\n",
              "      <th>WindDir9am_ENE</th>\n",
              "      <th>WindDir9am_ESE</th>\n",
              "      <th>WindDir9am_N</th>\n",
              "      <th>WindDir9am_NE</th>\n",
              "      <th>WindDir9am_NNE</th>\n",
              "      <th>WindDir9am_NNW</th>\n",
              "      <th>WindDir9am_NW</th>\n",
              "      <th>WindDir9am_S</th>\n",
              "      <th>WindDir9am_SE</th>\n",
              "      <th>WindDir9am_SSE</th>\n",
              "      <th>WindDir9am_SSW</th>\n",
              "      <th>WindDir9am_SW</th>\n",
              "      <th>WindDir9am_W</th>\n",
              "      <th>WindDir9am_WNW</th>\n",
              "      <th>WindDir9am_WSW</th>\n",
              "      <th>WindDir3pm_ENE</th>\n",
              "      <th>WindDir3pm_ESE</th>\n",
              "      <th>WindDir3pm_N</th>\n",
              "      <th>WindDir3pm_NE</th>\n",
              "      <th>WindDir3pm_NNE</th>\n",
              "      <th>WindDir3pm_NNW</th>\n",
              "      <th>WindDir3pm_NW</th>\n",
              "      <th>WindDir3pm_S</th>\n",
              "      <th>WindDir3pm_SE</th>\n",
              "      <th>WindDir3pm_SSE</th>\n",
              "      <th>WindDir3pm_SSW</th>\n",
              "      <th>WindDir3pm_SW</th>\n",
              "      <th>WindDir3pm_W</th>\n",
              "      <th>WindDir3pm_WNW</th>\n",
              "      <th>WindDir3pm_WSW</th>\n",
              "      <th>RainToday_Yes</th>\n",
              "      <th>RainTomorrow_Yes</th>\n",
              "    </tr>\n",
              "  </thead>\n",
              "  <tbody>\n",
              "    <tr>\n",
              "      <th>0</th>\n",
              "      <td>13.4</td>\n",
              "      <td>22.9</td>\n",
              "      <td>0.6</td>\n",
              "      <td>5.468232</td>\n",
              "      <td>7.611178</td>\n",
              "      <td>44.0</td>\n",
              "      <td>20.0</td>\n",
              "      <td>24.0</td>\n",
              "      <td>71.0</td>\n",
              "      <td>22.0</td>\n",
              "      <td>1007.7</td>\n",
              "      <td>1007.1</td>\n",
              "      <td>8.000000</td>\n",
              "      <td>4.50993</td>\n",
              "      <td>16.9</td>\n",
              "      <td>21.8</td>\n",
              "      <td>0</td>\n",
              "      <td>0</td>\n",
              "      <td>0</td>\n",
              "      <td>0</td>\n",
              "      <td>0</td>\n",
              "      <td>0</td>\n",
              "      <td>0</td>\n",
              "      <td>0</td>\n",
              "      <td>0</td>\n",
              "      <td>0</td>\n",
              "      <td>0</td>\n",
              "      <td>0</td>\n",
              "      <td>1</td>\n",
              "      <td>0</td>\n",
              "      <td>0</td>\n",
              "      <td>0</td>\n",
              "      <td>0</td>\n",
              "      <td>0</td>\n",
              "      <td>0</td>\n",
              "      <td>0</td>\n",
              "      <td>0</td>\n",
              "      <td>0</td>\n",
              "      <td>0</td>\n",
              "      <td>0</td>\n",
              "      <td>0</td>\n",
              "      <td>0</td>\n",
              "      <td>0</td>\n",
              "      <td>1</td>\n",
              "      <td>0</td>\n",
              "      <td>0</td>\n",
              "      <td>0</td>\n",
              "      <td>0</td>\n",
              "      <td>0</td>\n",
              "      <td>0</td>\n",
              "      <td>0</td>\n",
              "      <td>0</td>\n",
              "      <td>0</td>\n",
              "      <td>0</td>\n",
              "      <td>0</td>\n",
              "      <td>0</td>\n",
              "      <td>0</td>\n",
              "      <td>0</td>\n",
              "      <td>0</td>\n",
              "      <td>1</td>\n",
              "      <td>0</td>\n",
              "      <td>0</td>\n",
              "      <td>0</td>\n",
              "    </tr>\n",
              "    <tr>\n",
              "      <th>1</th>\n",
              "      <td>7.4</td>\n",
              "      <td>25.1</td>\n",
              "      <td>0.0</td>\n",
              "      <td>5.468232</td>\n",
              "      <td>7.611178</td>\n",
              "      <td>44.0</td>\n",
              "      <td>4.0</td>\n",
              "      <td>22.0</td>\n",
              "      <td>44.0</td>\n",
              "      <td>25.0</td>\n",
              "      <td>1010.6</td>\n",
              "      <td>1007.8</td>\n",
              "      <td>4.447461</td>\n",
              "      <td>4.50993</td>\n",
              "      <td>17.2</td>\n",
              "      <td>24.3</td>\n",
              "      <td>0</td>\n",
              "      <td>0</td>\n",
              "      <td>0</td>\n",
              "      <td>0</td>\n",
              "      <td>0</td>\n",
              "      <td>0</td>\n",
              "      <td>0</td>\n",
              "      <td>0</td>\n",
              "      <td>0</td>\n",
              "      <td>0</td>\n",
              "      <td>0</td>\n",
              "      <td>0</td>\n",
              "      <td>0</td>\n",
              "      <td>1</td>\n",
              "      <td>0</td>\n",
              "      <td>0</td>\n",
              "      <td>0</td>\n",
              "      <td>0</td>\n",
              "      <td>0</td>\n",
              "      <td>0</td>\n",
              "      <td>1</td>\n",
              "      <td>0</td>\n",
              "      <td>0</td>\n",
              "      <td>0</td>\n",
              "      <td>0</td>\n",
              "      <td>0</td>\n",
              "      <td>0</td>\n",
              "      <td>0</td>\n",
              "      <td>0</td>\n",
              "      <td>0</td>\n",
              "      <td>0</td>\n",
              "      <td>0</td>\n",
              "      <td>0</td>\n",
              "      <td>0</td>\n",
              "      <td>0</td>\n",
              "      <td>0</td>\n",
              "      <td>0</td>\n",
              "      <td>0</td>\n",
              "      <td>0</td>\n",
              "      <td>0</td>\n",
              "      <td>0</td>\n",
              "      <td>0</td>\n",
              "      <td>0</td>\n",
              "      <td>0</td>\n",
              "      <td>1</td>\n",
              "      <td>0</td>\n",
              "      <td>0</td>\n",
              "    </tr>\n",
              "    <tr>\n",
              "      <th>2</th>\n",
              "      <td>12.9</td>\n",
              "      <td>25.7</td>\n",
              "      <td>0.0</td>\n",
              "      <td>5.468232</td>\n",
              "      <td>7.611178</td>\n",
              "      <td>46.0</td>\n",
              "      <td>19.0</td>\n",
              "      <td>26.0</td>\n",
              "      <td>38.0</td>\n",
              "      <td>30.0</td>\n",
              "      <td>1007.6</td>\n",
              "      <td>1008.7</td>\n",
              "      <td>4.447461</td>\n",
              "      <td>2.00000</td>\n",
              "      <td>21.0</td>\n",
              "      <td>23.2</td>\n",
              "      <td>0</td>\n",
              "      <td>0</td>\n",
              "      <td>0</td>\n",
              "      <td>0</td>\n",
              "      <td>0</td>\n",
              "      <td>0</td>\n",
              "      <td>0</td>\n",
              "      <td>0</td>\n",
              "      <td>0</td>\n",
              "      <td>0</td>\n",
              "      <td>0</td>\n",
              "      <td>0</td>\n",
              "      <td>0</td>\n",
              "      <td>0</td>\n",
              "      <td>1</td>\n",
              "      <td>0</td>\n",
              "      <td>0</td>\n",
              "      <td>0</td>\n",
              "      <td>0</td>\n",
              "      <td>0</td>\n",
              "      <td>0</td>\n",
              "      <td>0</td>\n",
              "      <td>0</td>\n",
              "      <td>0</td>\n",
              "      <td>0</td>\n",
              "      <td>0</td>\n",
              "      <td>0</td>\n",
              "      <td>1</td>\n",
              "      <td>0</td>\n",
              "      <td>0</td>\n",
              "      <td>0</td>\n",
              "      <td>0</td>\n",
              "      <td>0</td>\n",
              "      <td>0</td>\n",
              "      <td>0</td>\n",
              "      <td>0</td>\n",
              "      <td>0</td>\n",
              "      <td>0</td>\n",
              "      <td>0</td>\n",
              "      <td>0</td>\n",
              "      <td>0</td>\n",
              "      <td>0</td>\n",
              "      <td>0</td>\n",
              "      <td>0</td>\n",
              "      <td>1</td>\n",
              "      <td>0</td>\n",
              "      <td>0</td>\n",
              "    </tr>\n",
              "    <tr>\n",
              "      <th>3</th>\n",
              "      <td>9.2</td>\n",
              "      <td>28.0</td>\n",
              "      <td>0.0</td>\n",
              "      <td>5.468232</td>\n",
              "      <td>7.611178</td>\n",
              "      <td>24.0</td>\n",
              "      <td>11.0</td>\n",
              "      <td>9.0</td>\n",
              "      <td>45.0</td>\n",
              "      <td>16.0</td>\n",
              "      <td>1017.6</td>\n",
              "      <td>1012.8</td>\n",
              "      <td>4.447461</td>\n",
              "      <td>4.50993</td>\n",
              "      <td>18.1</td>\n",
              "      <td>26.5</td>\n",
              "      <td>0</td>\n",
              "      <td>0</td>\n",
              "      <td>0</td>\n",
              "      <td>1</td>\n",
              "      <td>0</td>\n",
              "      <td>0</td>\n",
              "      <td>0</td>\n",
              "      <td>0</td>\n",
              "      <td>0</td>\n",
              "      <td>0</td>\n",
              "      <td>0</td>\n",
              "      <td>0</td>\n",
              "      <td>0</td>\n",
              "      <td>0</td>\n",
              "      <td>0</td>\n",
              "      <td>0</td>\n",
              "      <td>0</td>\n",
              "      <td>0</td>\n",
              "      <td>0</td>\n",
              "      <td>0</td>\n",
              "      <td>0</td>\n",
              "      <td>0</td>\n",
              "      <td>0</td>\n",
              "      <td>1</td>\n",
              "      <td>0</td>\n",
              "      <td>0</td>\n",
              "      <td>0</td>\n",
              "      <td>0</td>\n",
              "      <td>0</td>\n",
              "      <td>0</td>\n",
              "      <td>0</td>\n",
              "      <td>0</td>\n",
              "      <td>0</td>\n",
              "      <td>0</td>\n",
              "      <td>0</td>\n",
              "      <td>0</td>\n",
              "      <td>0</td>\n",
              "      <td>0</td>\n",
              "      <td>0</td>\n",
              "      <td>0</td>\n",
              "      <td>0</td>\n",
              "      <td>0</td>\n",
              "      <td>0</td>\n",
              "      <td>0</td>\n",
              "      <td>0</td>\n",
              "      <td>0</td>\n",
              "      <td>0</td>\n",
              "    </tr>\n",
              "    <tr>\n",
              "      <th>4</th>\n",
              "      <td>17.5</td>\n",
              "      <td>32.3</td>\n",
              "      <td>1.0</td>\n",
              "      <td>5.468232</td>\n",
              "      <td>7.611178</td>\n",
              "      <td>41.0</td>\n",
              "      <td>7.0</td>\n",
              "      <td>20.0</td>\n",
              "      <td>82.0</td>\n",
              "      <td>33.0</td>\n",
              "      <td>1010.8</td>\n",
              "      <td>1006.0</td>\n",
              "      <td>7.000000</td>\n",
              "      <td>8.00000</td>\n",
              "      <td>17.8</td>\n",
              "      <td>29.7</td>\n",
              "      <td>0</td>\n",
              "      <td>0</td>\n",
              "      <td>0</td>\n",
              "      <td>0</td>\n",
              "      <td>0</td>\n",
              "      <td>0</td>\n",
              "      <td>0</td>\n",
              "      <td>0</td>\n",
              "      <td>0</td>\n",
              "      <td>0</td>\n",
              "      <td>0</td>\n",
              "      <td>0</td>\n",
              "      <td>1</td>\n",
              "      <td>0</td>\n",
              "      <td>0</td>\n",
              "      <td>1</td>\n",
              "      <td>0</td>\n",
              "      <td>0</td>\n",
              "      <td>0</td>\n",
              "      <td>0</td>\n",
              "      <td>0</td>\n",
              "      <td>0</td>\n",
              "      <td>0</td>\n",
              "      <td>0</td>\n",
              "      <td>0</td>\n",
              "      <td>0</td>\n",
              "      <td>0</td>\n",
              "      <td>0</td>\n",
              "      <td>0</td>\n",
              "      <td>0</td>\n",
              "      <td>0</td>\n",
              "      <td>0</td>\n",
              "      <td>0</td>\n",
              "      <td>0</td>\n",
              "      <td>0</td>\n",
              "      <td>0</td>\n",
              "      <td>1</td>\n",
              "      <td>0</td>\n",
              "      <td>0</td>\n",
              "      <td>0</td>\n",
              "      <td>0</td>\n",
              "      <td>0</td>\n",
              "      <td>0</td>\n",
              "      <td>0</td>\n",
              "      <td>0</td>\n",
              "      <td>0</td>\n",
              "      <td>0</td>\n",
              "    </tr>\n",
              "  </tbody>\n",
              "</table>\n",
              "</div>"
            ],
            "text/plain": [
              "   MinTemp  MaxTemp  Rainfall  ...  WindDir3pm_WSW  RainToday_Yes  RainTomorrow_Yes\n",
              "0     13.4     22.9       0.6  ...               0              0                 0\n",
              "1      7.4     25.1       0.0  ...               1              0                 0\n",
              "2     12.9     25.7       0.0  ...               1              0                 0\n",
              "3      9.2     28.0       0.0  ...               0              0                 0\n",
              "4     17.5     32.3       1.0  ...               0              0                 0\n",
              "\n",
              "[5 rows x 63 columns]"
            ]
          },
          "metadata": {
            "tags": []
          },
          "execution_count": 19
        }
      ]
    },
    {
      "cell_type": "code",
      "metadata": {
        "colab": {
          "base_uri": "https://localhost:8080/"
        },
        "id": "WHGFcZe2tahq",
        "outputId": "7cb7b23e-8014-4783-d6e5-a7b1c33fa29e"
      },
      "source": [
        "encoded_data.columns"
      ],
      "execution_count": 20,
      "outputs": [
        {
          "output_type": "execute_result",
          "data": {
            "text/plain": [
              "Index(['MinTemp', 'MaxTemp', 'Rainfall', 'Evaporation', 'Sunshine',\n",
              "       'WindGustSpeed', 'WindSpeed9am', 'WindSpeed3pm', 'Humidity9am',\n",
              "       'Humidity3pm', 'Pressure9am', 'Pressure3pm', 'Cloud9am', 'Cloud3pm',\n",
              "       'Temp9am', 'Temp3pm', 'WindGustDir_ENE', 'WindGustDir_ESE',\n",
              "       'WindGustDir_N', 'WindGustDir_NE', 'WindGustDir_NNE', 'WindGustDir_NNW',\n",
              "       'WindGustDir_NW', 'WindGustDir_S', 'WindGustDir_SE', 'WindGustDir_SSE',\n",
              "       'WindGustDir_SSW', 'WindGustDir_SW', 'WindGustDir_W', 'WindGustDir_WNW',\n",
              "       'WindGustDir_WSW', 'WindDir9am_ENE', 'WindDir9am_ESE', 'WindDir9am_N',\n",
              "       'WindDir9am_NE', 'WindDir9am_NNE', 'WindDir9am_NNW', 'WindDir9am_NW',\n",
              "       'WindDir9am_S', 'WindDir9am_SE', 'WindDir9am_SSE', 'WindDir9am_SSW',\n",
              "       'WindDir9am_SW', 'WindDir9am_W', 'WindDir9am_WNW', 'WindDir9am_WSW',\n",
              "       'WindDir3pm_ENE', 'WindDir3pm_ESE', 'WindDir3pm_N', 'WindDir3pm_NE',\n",
              "       'WindDir3pm_NNE', 'WindDir3pm_NNW', 'WindDir3pm_NW', 'WindDir3pm_S',\n",
              "       'WindDir3pm_SE', 'WindDir3pm_SSE', 'WindDir3pm_SSW', 'WindDir3pm_SW',\n",
              "       'WindDir3pm_W', 'WindDir3pm_WNW', 'WindDir3pm_WSW', 'RainToday_Yes',\n",
              "       'RainTomorrow_Yes'],\n",
              "      dtype='object')"
            ]
          },
          "metadata": {
            "tags": []
          },
          "execution_count": 20
        }
      ]
    },
    {
      "cell_type": "code",
      "metadata": {
        "id": "b55Ixp1jt0KZ"
      },
      "source": [
        "x = encoded_data.loc[:,encoded_data.columns != \"RainTomorrow_Yes\"]\r\n",
        "y = encoded_data.loc[:,\"RainTomorrow_Yes\"]\r\n",
        "x_train,x_test,y_train,y_test = train_test_split(x,y,test_size = 0.3,random_state = 42)"
      ],
      "execution_count": 24,
      "outputs": []
    },
    {
      "cell_type": "markdown",
      "metadata": {
        "id": "H48mjXBwuiij"
      },
      "source": [
        "Standardization "
      ]
    },
    {
      "cell_type": "code",
      "metadata": {
        "id": "e3gFThtmunAy"
      },
      "source": [
        "scaler = StandardScaler()\r\n",
        "x_train = scaler.fit_transform(x_train)\r\n",
        "x_test = scaler.transform(x_test)"
      ],
      "execution_count": 26,
      "outputs": []
    },
    {
      "cell_type": "code",
      "metadata": {
        "colab": {
          "base_uri": "https://localhost:8080/"
        },
        "id": "8ugPCxlTu1bF",
        "outputId": "9204645a-a818-4feb-d2d0-c2726f2155ce"
      },
      "source": [
        "x_train.shape"
      ],
      "execution_count": 27,
      "outputs": [
        {
          "output_type": "execute_result",
          "data": {
            "text/plain": [
              "(101822, 62)"
            ]
          },
          "metadata": {
            "tags": []
          },
          "execution_count": 27
        }
      ]
    },
    {
      "cell_type": "code",
      "metadata": {
        "colab": {
          "base_uri": "https://localhost:8080/"
        },
        "id": "M42O6Ywzu4_X",
        "outputId": "662b4158-478e-4cf5-c236-932eaead11d3"
      },
      "source": [
        "x_test.shape"
      ],
      "execution_count": 28,
      "outputs": [
        {
          "output_type": "execute_result",
          "data": {
            "text/plain": [
              "(43638, 62)"
            ]
          },
          "metadata": {
            "tags": []
          },
          "execution_count": 28
        }
      ]
    },
    {
      "cell_type": "markdown",
      "metadata": {
        "id": "BF12RTZ1u8GH"
      },
      "source": [
        "Building Neural Network"
      ]
    },
    {
      "cell_type": "code",
      "metadata": {
        "id": "5ianMSlmu_hd"
      },
      "source": [
        "model = keras.Sequential([\r\n",
        "                          layers.Dense(64,activation=\"relu\",name=\"layer1\"),\r\n",
        "                          layers.Dense(64,activation=\"relu\",name=\"layer2\"),\r\n",
        "                          layers.Dense(1,activation=\"sigmoid\",name = \"layer3\"),\r\n",
        "])"
      ],
      "execution_count": 29,
      "outputs": []
    },
    {
      "cell_type": "code",
      "metadata": {
        "id": "PLuUQaCHvaVq"
      },
      "source": [
        "# Compiling the model\r\n",
        "model.compile(optimizer=\"Adam\",loss=\"binary_crossentropy\",metrics=[\"accuracy\"])"
      ],
      "execution_count": 32,
      "outputs": []
    },
    {
      "cell_type": "code",
      "metadata": {
        "colab": {
          "base_uri": "https://localhost:8080/"
        },
        "id": "BdYJJvAbvr5D",
        "outputId": "62091a0d-a362-4582-da83-df7a487b8e4c"
      },
      "source": [
        "# Fitting the model\r\n",
        "model.fit(x_train,y_train,batch_size=100,validation_split=0.3,epochs=100)"
      ],
      "execution_count": 33,
      "outputs": [
        {
          "output_type": "stream",
          "text": [
            "Epoch 1/100\n",
            "713/713 [==============================] - 2s 2ms/step - loss: 0.4191 - accuracy: 0.8042 - val_loss: 0.3616 - val_accuracy: 0.8440\n",
            "Epoch 2/100\n",
            "713/713 [==============================] - 1s 2ms/step - loss: 0.3522 - accuracy: 0.8460 - val_loss: 0.3570 - val_accuracy: 0.8463\n",
            "Epoch 3/100\n",
            "713/713 [==============================] - 1s 2ms/step - loss: 0.3415 - accuracy: 0.8518 - val_loss: 0.3557 - val_accuracy: 0.8469\n",
            "Epoch 4/100\n",
            "713/713 [==============================] - 1s 2ms/step - loss: 0.3387 - accuracy: 0.8539 - val_loss: 0.3565 - val_accuracy: 0.8476\n",
            "Epoch 5/100\n",
            "713/713 [==============================] - 1s 2ms/step - loss: 0.3300 - accuracy: 0.8570 - val_loss: 0.3547 - val_accuracy: 0.8474\n",
            "Epoch 6/100\n",
            "713/713 [==============================] - 1s 2ms/step - loss: 0.3307 - accuracy: 0.8578 - val_loss: 0.3536 - val_accuracy: 0.8473\n",
            "Epoch 7/100\n",
            "713/713 [==============================] - 1s 2ms/step - loss: 0.3254 - accuracy: 0.8574 - val_loss: 0.3547 - val_accuracy: 0.8479\n",
            "Epoch 8/100\n",
            "713/713 [==============================] - 1s 2ms/step - loss: 0.3215 - accuracy: 0.8605 - val_loss: 0.3560 - val_accuracy: 0.8480\n",
            "Epoch 9/100\n",
            "713/713 [==============================] - 1s 2ms/step - loss: 0.3187 - accuracy: 0.8616 - val_loss: 0.3584 - val_accuracy: 0.8464\n",
            "Epoch 10/100\n",
            "713/713 [==============================] - 1s 2ms/step - loss: 0.3174 - accuracy: 0.8614 - val_loss: 0.3583 - val_accuracy: 0.8447\n",
            "Epoch 11/100\n",
            "713/713 [==============================] - 1s 2ms/step - loss: 0.3142 - accuracy: 0.8644 - val_loss: 0.3602 - val_accuracy: 0.8472\n",
            "Epoch 12/100\n",
            "713/713 [==============================] - 1s 2ms/step - loss: 0.3128 - accuracy: 0.8653 - val_loss: 0.3626 - val_accuracy: 0.8455\n",
            "Epoch 13/100\n",
            "713/713 [==============================] - 1s 2ms/step - loss: 0.3092 - accuracy: 0.8661 - val_loss: 0.3633 - val_accuracy: 0.8430\n",
            "Epoch 14/100\n",
            "713/713 [==============================] - 1s 2ms/step - loss: 0.3055 - accuracy: 0.8680 - val_loss: 0.3621 - val_accuracy: 0.8442\n",
            "Epoch 15/100\n",
            "713/713 [==============================] - 1s 2ms/step - loss: 0.3034 - accuracy: 0.8685 - val_loss: 0.3651 - val_accuracy: 0.8458\n",
            "Epoch 16/100\n",
            "713/713 [==============================] - 1s 2ms/step - loss: 0.3059 - accuracy: 0.8673 - val_loss: 0.3712 - val_accuracy: 0.8438\n",
            "Epoch 17/100\n",
            "713/713 [==============================] - 1s 2ms/step - loss: 0.3020 - accuracy: 0.8716 - val_loss: 0.3687 - val_accuracy: 0.8415\n",
            "Epoch 18/100\n",
            "713/713 [==============================] - 1s 2ms/step - loss: 0.2989 - accuracy: 0.8713 - val_loss: 0.3698 - val_accuracy: 0.8415\n",
            "Epoch 19/100\n",
            "713/713 [==============================] - 1s 2ms/step - loss: 0.2944 - accuracy: 0.8735 - val_loss: 0.3730 - val_accuracy: 0.8412\n",
            "Epoch 20/100\n",
            "713/713 [==============================] - 1s 2ms/step - loss: 0.2934 - accuracy: 0.8739 - val_loss: 0.3726 - val_accuracy: 0.8417\n",
            "Epoch 21/100\n",
            "713/713 [==============================] - 1s 2ms/step - loss: 0.2928 - accuracy: 0.8749 - val_loss: 0.3810 - val_accuracy: 0.8344\n",
            "Epoch 22/100\n",
            "713/713 [==============================] - 1s 2ms/step - loss: 0.2919 - accuracy: 0.8749 - val_loss: 0.3782 - val_accuracy: 0.8382\n",
            "Epoch 23/100\n",
            "713/713 [==============================] - 1s 2ms/step - loss: 0.2901 - accuracy: 0.8766 - val_loss: 0.3823 - val_accuracy: 0.8401\n",
            "Epoch 24/100\n",
            "713/713 [==============================] - 1s 2ms/step - loss: 0.2857 - accuracy: 0.8765 - val_loss: 0.3830 - val_accuracy: 0.8410\n",
            "Epoch 25/100\n",
            "713/713 [==============================] - 1s 2ms/step - loss: 0.2845 - accuracy: 0.8777 - val_loss: 0.3839 - val_accuracy: 0.8377\n",
            "Epoch 26/100\n",
            "713/713 [==============================] - 1s 2ms/step - loss: 0.2875 - accuracy: 0.8777 - val_loss: 0.3826 - val_accuracy: 0.8383\n",
            "Epoch 27/100\n",
            "713/713 [==============================] - 1s 2ms/step - loss: 0.2790 - accuracy: 0.8816 - val_loss: 0.3837 - val_accuracy: 0.8372\n",
            "Epoch 28/100\n",
            "713/713 [==============================] - 1s 2ms/step - loss: 0.2816 - accuracy: 0.8797 - val_loss: 0.3873 - val_accuracy: 0.8375\n",
            "Epoch 29/100\n",
            "713/713 [==============================] - 1s 2ms/step - loss: 0.2791 - accuracy: 0.8808 - val_loss: 0.3890 - val_accuracy: 0.8352\n",
            "Epoch 30/100\n",
            "713/713 [==============================] - 1s 2ms/step - loss: 0.2780 - accuracy: 0.8812 - val_loss: 0.3933 - val_accuracy: 0.8385\n",
            "Epoch 31/100\n",
            "713/713 [==============================] - 1s 2ms/step - loss: 0.2780 - accuracy: 0.8799 - val_loss: 0.3940 - val_accuracy: 0.8374\n",
            "Epoch 32/100\n",
            "713/713 [==============================] - 1s 2ms/step - loss: 0.2709 - accuracy: 0.8848 - val_loss: 0.3938 - val_accuracy: 0.8359\n",
            "Epoch 33/100\n",
            "713/713 [==============================] - 1s 2ms/step - loss: 0.2737 - accuracy: 0.8821 - val_loss: 0.3952 - val_accuracy: 0.8364\n",
            "Epoch 34/100\n",
            "713/713 [==============================] - 1s 2ms/step - loss: 0.2712 - accuracy: 0.8850 - val_loss: 0.3967 - val_accuracy: 0.8345\n",
            "Epoch 35/100\n",
            "713/713 [==============================] - 1s 2ms/step - loss: 0.2691 - accuracy: 0.8842 - val_loss: 0.3992 - val_accuracy: 0.8382\n",
            "Epoch 36/100\n",
            "713/713 [==============================] - 1s 2ms/step - loss: 0.2728 - accuracy: 0.8845 - val_loss: 0.4030 - val_accuracy: 0.8355\n",
            "Epoch 37/100\n",
            "713/713 [==============================] - 1s 2ms/step - loss: 0.2696 - accuracy: 0.8858 - val_loss: 0.4014 - val_accuracy: 0.8348\n",
            "Epoch 38/100\n",
            "713/713 [==============================] - 1s 2ms/step - loss: 0.2654 - accuracy: 0.8882 - val_loss: 0.4038 - val_accuracy: 0.8340\n",
            "Epoch 39/100\n",
            "713/713 [==============================] - 1s 2ms/step - loss: 0.2648 - accuracy: 0.8873 - val_loss: 0.4098 - val_accuracy: 0.8345\n",
            "Epoch 40/100\n",
            "713/713 [==============================] - 1s 2ms/step - loss: 0.2655 - accuracy: 0.8864 - val_loss: 0.4072 - val_accuracy: 0.8369\n",
            "Epoch 41/100\n",
            "713/713 [==============================] - 1s 2ms/step - loss: 0.2598 - accuracy: 0.8892 - val_loss: 0.4094 - val_accuracy: 0.8300\n",
            "Epoch 42/100\n",
            "713/713 [==============================] - 1s 2ms/step - loss: 0.2654 - accuracy: 0.8881 - val_loss: 0.4135 - val_accuracy: 0.8374\n",
            "Epoch 43/100\n",
            "713/713 [==============================] - 1s 2ms/step - loss: 0.2622 - accuracy: 0.8872 - val_loss: 0.4123 - val_accuracy: 0.8356\n",
            "Epoch 44/100\n",
            "713/713 [==============================] - 1s 2ms/step - loss: 0.2590 - accuracy: 0.8903 - val_loss: 0.4145 - val_accuracy: 0.8347\n",
            "Epoch 45/100\n",
            "713/713 [==============================] - 1s 2ms/step - loss: 0.2620 - accuracy: 0.8885 - val_loss: 0.4121 - val_accuracy: 0.8291\n",
            "Epoch 46/100\n",
            "713/713 [==============================] - 1s 2ms/step - loss: 0.2598 - accuracy: 0.8888 - val_loss: 0.4180 - val_accuracy: 0.8327\n",
            "Epoch 47/100\n",
            "713/713 [==============================] - 1s 2ms/step - loss: 0.2535 - accuracy: 0.8910 - val_loss: 0.4213 - val_accuracy: 0.8300\n",
            "Epoch 48/100\n",
            "713/713 [==============================] - 1s 2ms/step - loss: 0.2574 - accuracy: 0.8912 - val_loss: 0.4177 - val_accuracy: 0.8350\n",
            "Epoch 49/100\n",
            "713/713 [==============================] - 1s 2ms/step - loss: 0.2564 - accuracy: 0.8907 - val_loss: 0.4183 - val_accuracy: 0.8293\n",
            "Epoch 50/100\n",
            "713/713 [==============================] - 1s 2ms/step - loss: 0.2575 - accuracy: 0.8901 - val_loss: 0.4249 - val_accuracy: 0.8252\n",
            "Epoch 51/100\n",
            "713/713 [==============================] - 1s 2ms/step - loss: 0.2584 - accuracy: 0.8900 - val_loss: 0.4233 - val_accuracy: 0.8312\n",
            "Epoch 52/100\n",
            "713/713 [==============================] - 1s 2ms/step - loss: 0.2556 - accuracy: 0.8900 - val_loss: 0.4253 - val_accuracy: 0.8299\n",
            "Epoch 53/100\n",
            "713/713 [==============================] - 1s 2ms/step - loss: 0.2544 - accuracy: 0.8928 - val_loss: 0.4254 - val_accuracy: 0.8309\n",
            "Epoch 54/100\n",
            "713/713 [==============================] - 1s 2ms/step - loss: 0.2516 - accuracy: 0.8928 - val_loss: 0.4306 - val_accuracy: 0.8309\n",
            "Epoch 55/100\n",
            "713/713 [==============================] - 1s 2ms/step - loss: 0.2487 - accuracy: 0.8945 - val_loss: 0.4268 - val_accuracy: 0.8290\n",
            "Epoch 56/100\n",
            "713/713 [==============================] - 1s 2ms/step - loss: 0.2502 - accuracy: 0.8942 - val_loss: 0.4288 - val_accuracy: 0.8290\n",
            "Epoch 57/100\n",
            "713/713 [==============================] - 1s 2ms/step - loss: 0.2525 - accuracy: 0.8926 - val_loss: 0.4308 - val_accuracy: 0.8326\n",
            "Epoch 58/100\n",
            "713/713 [==============================] - 1s 2ms/step - loss: 0.2474 - accuracy: 0.8937 - val_loss: 0.4366 - val_accuracy: 0.8219\n",
            "Epoch 59/100\n",
            "713/713 [==============================] - 1s 2ms/step - loss: 0.2490 - accuracy: 0.8953 - val_loss: 0.4349 - val_accuracy: 0.8283\n",
            "Epoch 60/100\n",
            "713/713 [==============================] - 1s 2ms/step - loss: 0.2479 - accuracy: 0.8946 - val_loss: 0.4336 - val_accuracy: 0.8291\n",
            "Epoch 61/100\n",
            "713/713 [==============================] - 1s 2ms/step - loss: 0.2479 - accuracy: 0.8938 - val_loss: 0.4383 - val_accuracy: 0.8272\n",
            "Epoch 62/100\n",
            "713/713 [==============================] - 1s 2ms/step - loss: 0.2453 - accuracy: 0.8966 - val_loss: 0.4373 - val_accuracy: 0.8299\n",
            "Epoch 63/100\n",
            "713/713 [==============================] - 1s 2ms/step - loss: 0.2452 - accuracy: 0.8969 - val_loss: 0.4367 - val_accuracy: 0.8258\n",
            "Epoch 64/100\n",
            "713/713 [==============================] - 1s 2ms/step - loss: 0.2476 - accuracy: 0.8954 - val_loss: 0.4442 - val_accuracy: 0.8300\n",
            "Epoch 65/100\n",
            "713/713 [==============================] - 1s 2ms/step - loss: 0.2458 - accuracy: 0.8958 - val_loss: 0.4406 - val_accuracy: 0.8294\n",
            "Epoch 66/100\n",
            "713/713 [==============================] - 1s 2ms/step - loss: 0.2444 - accuracy: 0.8958 - val_loss: 0.4469 - val_accuracy: 0.8299\n",
            "Epoch 67/100\n",
            "713/713 [==============================] - 1s 2ms/step - loss: 0.2446 - accuracy: 0.8957 - val_loss: 0.4494 - val_accuracy: 0.8306\n",
            "Epoch 68/100\n",
            "713/713 [==============================] - 1s 2ms/step - loss: 0.2453 - accuracy: 0.8962 - val_loss: 0.4453 - val_accuracy: 0.8263\n",
            "Epoch 69/100\n",
            "713/713 [==============================] - 1s 2ms/step - loss: 0.2432 - accuracy: 0.8976 - val_loss: 0.4492 - val_accuracy: 0.8217\n",
            "Epoch 70/100\n",
            "713/713 [==============================] - 1s 2ms/step - loss: 0.2442 - accuracy: 0.8959 - val_loss: 0.4466 - val_accuracy: 0.8237\n",
            "Epoch 71/100\n",
            "713/713 [==============================] - 1s 2ms/step - loss: 0.2415 - accuracy: 0.8983 - val_loss: 0.4478 - val_accuracy: 0.8279\n",
            "Epoch 72/100\n",
            "713/713 [==============================] - 1s 2ms/step - loss: 0.2421 - accuracy: 0.8975 - val_loss: 0.4481 - val_accuracy: 0.8251\n",
            "Epoch 73/100\n",
            "713/713 [==============================] - 1s 2ms/step - loss: 0.2433 - accuracy: 0.8965 - val_loss: 0.4556 - val_accuracy: 0.8188\n",
            "Epoch 74/100\n",
            "713/713 [==============================] - 1s 2ms/step - loss: 0.2420 - accuracy: 0.8975 - val_loss: 0.4491 - val_accuracy: 0.8252\n",
            "Epoch 75/100\n",
            "713/713 [==============================] - 1s 2ms/step - loss: 0.2388 - accuracy: 0.8986 - val_loss: 0.4523 - val_accuracy: 0.8236\n",
            "Epoch 76/100\n",
            "713/713 [==============================] - 1s 2ms/step - loss: 0.2404 - accuracy: 0.8982 - val_loss: 0.4535 - val_accuracy: 0.8257\n",
            "Epoch 77/100\n",
            "713/713 [==============================] - 1s 2ms/step - loss: 0.2370 - accuracy: 0.8996 - val_loss: 0.4582 - val_accuracy: 0.8247\n",
            "Epoch 78/100\n",
            "713/713 [==============================] - 1s 2ms/step - loss: 0.2385 - accuracy: 0.8986 - val_loss: 0.4601 - val_accuracy: 0.8261\n",
            "Epoch 79/100\n",
            "713/713 [==============================] - 1s 2ms/step - loss: 0.2373 - accuracy: 0.8994 - val_loss: 0.4606 - val_accuracy: 0.8247\n",
            "Epoch 80/100\n",
            "713/713 [==============================] - 1s 2ms/step - loss: 0.2369 - accuracy: 0.8982 - val_loss: 0.4576 - val_accuracy: 0.8219\n",
            "Epoch 81/100\n",
            "713/713 [==============================] - 1s 2ms/step - loss: 0.2432 - accuracy: 0.8979 - val_loss: 0.4608 - val_accuracy: 0.8226\n",
            "Epoch 82/100\n",
            "713/713 [==============================] - 1s 2ms/step - loss: 0.2401 - accuracy: 0.8995 - val_loss: 0.4629 - val_accuracy: 0.8248\n",
            "Epoch 83/100\n",
            "713/713 [==============================] - 1s 2ms/step - loss: 0.2361 - accuracy: 0.9009 - val_loss: 0.4627 - val_accuracy: 0.8216\n",
            "Epoch 84/100\n",
            "713/713 [==============================] - 1s 2ms/step - loss: 0.2382 - accuracy: 0.8984 - val_loss: 0.4635 - val_accuracy: 0.8272\n",
            "Epoch 85/100\n",
            "713/713 [==============================] - 1s 2ms/step - loss: 0.2357 - accuracy: 0.9004 - val_loss: 0.4650 - val_accuracy: 0.8246\n",
            "Epoch 86/100\n",
            "713/713 [==============================] - 1s 2ms/step - loss: 0.2365 - accuracy: 0.8985 - val_loss: 0.4663 - val_accuracy: 0.8245\n",
            "Epoch 87/100\n",
            "713/713 [==============================] - 1s 2ms/step - loss: 0.2344 - accuracy: 0.9013 - val_loss: 0.4667 - val_accuracy: 0.8291\n",
            "Epoch 88/100\n",
            "713/713 [==============================] - 1s 2ms/step - loss: 0.2349 - accuracy: 0.9000 - val_loss: 0.4658 - val_accuracy: 0.8208\n",
            "Epoch 89/100\n",
            "713/713 [==============================] - 1s 2ms/step - loss: 0.2298 - accuracy: 0.9021 - val_loss: 0.4722 - val_accuracy: 0.8195\n",
            "Epoch 90/100\n",
            "713/713 [==============================] - 1s 2ms/step - loss: 0.2295 - accuracy: 0.9021 - val_loss: 0.4715 - val_accuracy: 0.8254\n",
            "Epoch 91/100\n",
            "713/713 [==============================] - 1s 2ms/step - loss: 0.2361 - accuracy: 0.9002 - val_loss: 0.4707 - val_accuracy: 0.8263\n",
            "Epoch 92/100\n",
            "713/713 [==============================] - 1s 2ms/step - loss: 0.2339 - accuracy: 0.9009 - val_loss: 0.4729 - val_accuracy: 0.8199\n",
            "Epoch 93/100\n",
            "713/713 [==============================] - 1s 2ms/step - loss: 0.2297 - accuracy: 0.9040 - val_loss: 0.4782 - val_accuracy: 0.8262\n",
            "Epoch 94/100\n",
            "713/713 [==============================] - 1s 2ms/step - loss: 0.2327 - accuracy: 0.9024 - val_loss: 0.4715 - val_accuracy: 0.8243\n",
            "Epoch 95/100\n",
            "713/713 [==============================] - 1s 2ms/step - loss: 0.2294 - accuracy: 0.9026 - val_loss: 0.4716 - val_accuracy: 0.8198\n",
            "Epoch 96/100\n",
            "713/713 [==============================] - 1s 2ms/step - loss: 0.2310 - accuracy: 0.9028 - val_loss: 0.4763 - val_accuracy: 0.8222\n",
            "Epoch 97/100\n",
            "713/713 [==============================] - 1s 2ms/step - loss: 0.2276 - accuracy: 0.9043 - val_loss: 0.4773 - val_accuracy: 0.8224\n",
            "Epoch 98/100\n",
            "713/713 [==============================] - 1s 2ms/step - loss: 0.2278 - accuracy: 0.9039 - val_loss: 0.4747 - val_accuracy: 0.8230\n",
            "Epoch 99/100\n",
            "713/713 [==============================] - 1s 2ms/step - loss: 0.2296 - accuracy: 0.9019 - val_loss: 0.4823 - val_accuracy: 0.8196\n",
            "Epoch 100/100\n",
            "713/713 [==============================] - 1s 2ms/step - loss: 0.2299 - accuracy: 0.9027 - val_loss: 0.4764 - val_accuracy: 0.8232\n"
          ],
          "name": "stdout"
        },
        {
          "output_type": "execute_result",
          "data": {
            "text/plain": [
              "<tensorflow.python.keras.callbacks.History at 0x7fe0f090cfd0>"
            ]
          },
          "metadata": {
            "tags": []
          },
          "execution_count": 33
        }
      ]
    },
    {
      "cell_type": "code",
      "metadata": {
        "colab": {
          "base_uri": "https://localhost:8080/"
        },
        "id": "p9Zzfjwcwmc-",
        "outputId": "b4e1c046-4a07-4c7d-8095-305913798264"
      },
      "source": [
        "y_pred = model.predict(x_test)\r\n",
        "y_pred"
      ],
      "execution_count": 35,
      "outputs": [
        {
          "output_type": "execute_result",
          "data": {
            "text/plain": [
              "array([[0.8245456 ],\n",
              "       [0.02396619],\n",
              "       [0.67708576],\n",
              "       ...,\n",
              "       [0.9726943 ],\n",
              "       [0.00611055],\n",
              "       [0.98275644]], dtype=float32)"
            ]
          },
          "metadata": {
            "tags": []
          },
          "execution_count": 35
        }
      ]
    },
    {
      "cell_type": "code",
      "metadata": {
        "colab": {
          "base_uri": "https://localhost:8080/"
        },
        "id": "BEYojmu1wvJW",
        "outputId": "4adfe1ca-40f2-47bb-9043-0af5d5139265"
      },
      "source": [
        "y_pred = y_pred > 0.5\r\n",
        "y_pred"
      ],
      "execution_count": 39,
      "outputs": [
        {
          "output_type": "execute_result",
          "data": {
            "text/plain": [
              "array([[ True],\n",
              "       [False],\n",
              "       [ True],\n",
              "       ...,\n",
              "       [ True],\n",
              "       [False],\n",
              "       [ True]])"
            ]
          },
          "metadata": {
            "tags": []
          },
          "execution_count": 39
        }
      ]
    },
    {
      "cell_type": "code",
      "metadata": {
        "colab": {
          "base_uri": "https://localhost:8080/"
        },
        "id": "JxHnh3R2xSn6",
        "outputId": "0cffe1d9-8c5e-4a09-b4f9-18beb1143b08"
      },
      "source": [
        "y_test"
      ],
      "execution_count": 40,
      "outputs": [
        {
          "output_type": "execute_result",
          "data": {
            "text/plain": [
              "100721    1\n",
              "30234     0\n",
              "68427     0\n",
              "28624     0\n",
              "31173     0\n",
              "         ..\n",
              "130665    1\n",
              "67453     1\n",
              "19257     1\n",
              "13928     0\n",
              "75366     0\n",
              "Name: RainTomorrow_Yes, Length: 43638, dtype: uint8"
            ]
          },
          "metadata": {
            "tags": []
          },
          "execution_count": 40
        }
      ]
    },
    {
      "cell_type": "code",
      "metadata": {
        "colab": {
          "base_uri": "https://localhost:8080/"
        },
        "id": "eucUkShixBmo",
        "outputId": "08c58887-7165-4940-de14-093265bd6129"
      },
      "source": [
        "metrics.accuracy_score(y_test,y_pred)"
      ],
      "execution_count": 38,
      "outputs": [
        {
          "output_type": "execute_result",
          "data": {
            "text/plain": [
              "0.8271231495485586"
            ]
          },
          "metadata": {
            "tags": []
          },
          "execution_count": 38
        }
      ]
    }
  ]
}