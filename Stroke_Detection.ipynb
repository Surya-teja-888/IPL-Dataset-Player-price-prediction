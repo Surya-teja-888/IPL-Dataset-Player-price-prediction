{
  "nbformat": 4,
  "nbformat_minor": 0,
  "metadata": {
    "colab": {
      "name": "Stroke_Detection.ipynb",
      "provenance": [],
      "collapsed_sections": [],
      "authorship_tag": "ABX9TyMORINp9c2lxdCnKOUeH3kv",
      "include_colab_link": true
    },
    "kernelspec": {
      "name": "python3",
      "display_name": "Python 3"
    }
  },
  "cells": [
    {
      "cell_type": "markdown",
      "metadata": {
        "id": "view-in-github",
        "colab_type": "text"
      },
      "source": [
        "<a href=\"https://colab.research.google.com/github/Surya-teja-888/IPL-Dataset-Player-price-prediction/blob/master/Stroke_Detection.ipynb\" target=\"_parent\"><img src=\"https://colab.research.google.com/assets/colab-badge.svg\" alt=\"Open In Colab\"/></a>"
      ]
    },
    {
      "cell_type": "code",
      "metadata": {
        "colab": {
          "resources": {
            "http://localhost:8080/nbextensions/google.colab/files.js": {
              "data": "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",
              "ok": true,
              "headers": [
                [
                  "content-type",
                  "application/javascript"
                ]
              ],
              "status": 200,
              "status_text": ""
            }
          },
          "base_uri": "https://localhost:8080/",
          "height": 74
        },
        "id": "2AbmwRQXXvfS",
        "outputId": "cc227885-6395-4cdf-9d8f-c97d06ff2729"
      },
      "source": [
        "from google.colab import files\r\n",
        "upload = files.upload()"
      ],
      "execution_count": 1,
      "outputs": [
        {
          "output_type": "display_data",
          "data": {
            "text/html": [
              "\n",
              "     <input type=\"file\" id=\"files-274c844b-6416-47d5-9a12-15099e2e7048\" name=\"files[]\" multiple disabled\n",
              "        style=\"border:none\" />\n",
              "     <output id=\"result-274c844b-6416-47d5-9a12-15099e2e7048\">\n",
              "      Upload widget is only available when the cell has been executed in the\n",
              "      current browser session. Please rerun this cell to enable.\n",
              "      </output>\n",
              "      <script src=\"/nbextensions/google.colab/files.js\"></script> "
            ],
            "text/plain": [
              "<IPython.core.display.HTML object>"
            ]
          },
          "metadata": {
            "tags": []
          }
        },
        {
          "output_type": "stream",
          "text": [
            "Saving stroke_detection.csv to stroke_detection.csv\n"
          ],
          "name": "stdout"
        }
      ]
    },
    {
      "cell_type": "code",
      "metadata": {
        "id": "whAP6y7OX_NW"
      },
      "source": [
        "import pandas as pd\r\n",
        "import matplotlib.pyplot as plt\r\n",
        "import seaborn as sns\r\n",
        "from sklearn.model_selection import train_test_split\r\n",
        "from sklearn import metrics\r\n",
        "from sklearn.preprocessing import StandardScaler\r\n",
        "import keras\r\n",
        "from keras.models import Sequential\r\n",
        "from keras import layers\r\n",
        "import warnings\r\n",
        "warnings.filterwarnings(\"ignore\")"
      ],
      "execution_count": 17,
      "outputs": []
    },
    {
      "cell_type": "code",
      "metadata": {
        "colab": {
          "base_uri": "https://localhost:8080/",
          "height": 195
        },
        "id": "T0cwfYqfYkEk",
        "outputId": "acbc4779-cb02-4e65-8e85-e8fe2cfd996d"
      },
      "source": [
        "data = pd.read_csv(\"stroke_detection.csv\")\r\n",
        "data.head()"
      ],
      "execution_count": 3,
      "outputs": [
        {
          "output_type": "execute_result",
          "data": {
            "text/html": [
              "<div>\n",
              "<style scoped>\n",
              "    .dataframe tbody tr th:only-of-type {\n",
              "        vertical-align: middle;\n",
              "    }\n",
              "\n",
              "    .dataframe tbody tr th {\n",
              "        vertical-align: top;\n",
              "    }\n",
              "\n",
              "    .dataframe thead th {\n",
              "        text-align: right;\n",
              "    }\n",
              "</style>\n",
              "<table border=\"1\" class=\"dataframe\">\n",
              "  <thead>\n",
              "    <tr style=\"text-align: right;\">\n",
              "      <th></th>\n",
              "      <th>id</th>\n",
              "      <th>gender</th>\n",
              "      <th>age</th>\n",
              "      <th>hypertension</th>\n",
              "      <th>heart_disease</th>\n",
              "      <th>ever_married</th>\n",
              "      <th>work_type</th>\n",
              "      <th>Residence_type</th>\n",
              "      <th>avg_glucose_level</th>\n",
              "      <th>bmi</th>\n",
              "      <th>smoking_status</th>\n",
              "      <th>stroke</th>\n",
              "    </tr>\n",
              "  </thead>\n",
              "  <tbody>\n",
              "    <tr>\n",
              "      <th>0</th>\n",
              "      <td>9046</td>\n",
              "      <td>Male</td>\n",
              "      <td>67.0</td>\n",
              "      <td>0</td>\n",
              "      <td>1</td>\n",
              "      <td>Yes</td>\n",
              "      <td>Private</td>\n",
              "      <td>Urban</td>\n",
              "      <td>228.69</td>\n",
              "      <td>36.6</td>\n",
              "      <td>formerly smoked</td>\n",
              "      <td>1</td>\n",
              "    </tr>\n",
              "    <tr>\n",
              "      <th>1</th>\n",
              "      <td>51676</td>\n",
              "      <td>Female</td>\n",
              "      <td>61.0</td>\n",
              "      <td>0</td>\n",
              "      <td>0</td>\n",
              "      <td>Yes</td>\n",
              "      <td>Self-employed</td>\n",
              "      <td>Rural</td>\n",
              "      <td>202.21</td>\n",
              "      <td>NaN</td>\n",
              "      <td>never smoked</td>\n",
              "      <td>1</td>\n",
              "    </tr>\n",
              "    <tr>\n",
              "      <th>2</th>\n",
              "      <td>31112</td>\n",
              "      <td>Male</td>\n",
              "      <td>80.0</td>\n",
              "      <td>0</td>\n",
              "      <td>1</td>\n",
              "      <td>Yes</td>\n",
              "      <td>Private</td>\n",
              "      <td>Rural</td>\n",
              "      <td>105.92</td>\n",
              "      <td>32.5</td>\n",
              "      <td>never smoked</td>\n",
              "      <td>1</td>\n",
              "    </tr>\n",
              "    <tr>\n",
              "      <th>3</th>\n",
              "      <td>60182</td>\n",
              "      <td>Female</td>\n",
              "      <td>49.0</td>\n",
              "      <td>0</td>\n",
              "      <td>0</td>\n",
              "      <td>Yes</td>\n",
              "      <td>Private</td>\n",
              "      <td>Urban</td>\n",
              "      <td>171.23</td>\n",
              "      <td>34.4</td>\n",
              "      <td>smokes</td>\n",
              "      <td>1</td>\n",
              "    </tr>\n",
              "    <tr>\n",
              "      <th>4</th>\n",
              "      <td>1665</td>\n",
              "      <td>Female</td>\n",
              "      <td>79.0</td>\n",
              "      <td>1</td>\n",
              "      <td>0</td>\n",
              "      <td>Yes</td>\n",
              "      <td>Self-employed</td>\n",
              "      <td>Rural</td>\n",
              "      <td>174.12</td>\n",
              "      <td>24.0</td>\n",
              "      <td>never smoked</td>\n",
              "      <td>1</td>\n",
              "    </tr>\n",
              "  </tbody>\n",
              "</table>\n",
              "</div>"
            ],
            "text/plain": [
              "      id  gender   age  ...   bmi   smoking_status stroke\n",
              "0   9046    Male  67.0  ...  36.6  formerly smoked      1\n",
              "1  51676  Female  61.0  ...   NaN     never smoked      1\n",
              "2  31112    Male  80.0  ...  32.5     never smoked      1\n",
              "3  60182  Female  49.0  ...  34.4           smokes      1\n",
              "4   1665  Female  79.0  ...  24.0     never smoked      1\n",
              "\n",
              "[5 rows x 12 columns]"
            ]
          },
          "metadata": {
            "tags": []
          },
          "execution_count": 3
        }
      ]
    },
    {
      "cell_type": "markdown",
      "metadata": {
        "id": "TEuyGt4AYsGG"
      },
      "source": [
        "Removing \"id\" from the data"
      ]
    },
    {
      "cell_type": "code",
      "metadata": {
        "colab": {
          "base_uri": "https://localhost:8080/",
          "height": 195
        },
        "id": "w4Y_kHhzYvu4",
        "outputId": "0f6e67cd-a5c9-4017-d35d-4322e34d97a0"
      },
      "source": [
        "data_1 = data.drop(\"id\",axis = 1)\r\n",
        "data_1.head()"
      ],
      "execution_count": 4,
      "outputs": [
        {
          "output_type": "execute_result",
          "data": {
            "text/html": [
              "<div>\n",
              "<style scoped>\n",
              "    .dataframe tbody tr th:only-of-type {\n",
              "        vertical-align: middle;\n",
              "    }\n",
              "\n",
              "    .dataframe tbody tr th {\n",
              "        vertical-align: top;\n",
              "    }\n",
              "\n",
              "    .dataframe thead th {\n",
              "        text-align: right;\n",
              "    }\n",
              "</style>\n",
              "<table border=\"1\" class=\"dataframe\">\n",
              "  <thead>\n",
              "    <tr style=\"text-align: right;\">\n",
              "      <th></th>\n",
              "      <th>gender</th>\n",
              "      <th>age</th>\n",
              "      <th>hypertension</th>\n",
              "      <th>heart_disease</th>\n",
              "      <th>ever_married</th>\n",
              "      <th>work_type</th>\n",
              "      <th>Residence_type</th>\n",
              "      <th>avg_glucose_level</th>\n",
              "      <th>bmi</th>\n",
              "      <th>smoking_status</th>\n",
              "      <th>stroke</th>\n",
              "    </tr>\n",
              "  </thead>\n",
              "  <tbody>\n",
              "    <tr>\n",
              "      <th>0</th>\n",
              "      <td>Male</td>\n",
              "      <td>67.0</td>\n",
              "      <td>0</td>\n",
              "      <td>1</td>\n",
              "      <td>Yes</td>\n",
              "      <td>Private</td>\n",
              "      <td>Urban</td>\n",
              "      <td>228.69</td>\n",
              "      <td>36.6</td>\n",
              "      <td>formerly smoked</td>\n",
              "      <td>1</td>\n",
              "    </tr>\n",
              "    <tr>\n",
              "      <th>1</th>\n",
              "      <td>Female</td>\n",
              "      <td>61.0</td>\n",
              "      <td>0</td>\n",
              "      <td>0</td>\n",
              "      <td>Yes</td>\n",
              "      <td>Self-employed</td>\n",
              "      <td>Rural</td>\n",
              "      <td>202.21</td>\n",
              "      <td>NaN</td>\n",
              "      <td>never smoked</td>\n",
              "      <td>1</td>\n",
              "    </tr>\n",
              "    <tr>\n",
              "      <th>2</th>\n",
              "      <td>Male</td>\n",
              "      <td>80.0</td>\n",
              "      <td>0</td>\n",
              "      <td>1</td>\n",
              "      <td>Yes</td>\n",
              "      <td>Private</td>\n",
              "      <td>Rural</td>\n",
              "      <td>105.92</td>\n",
              "      <td>32.5</td>\n",
              "      <td>never smoked</td>\n",
              "      <td>1</td>\n",
              "    </tr>\n",
              "    <tr>\n",
              "      <th>3</th>\n",
              "      <td>Female</td>\n",
              "      <td>49.0</td>\n",
              "      <td>0</td>\n",
              "      <td>0</td>\n",
              "      <td>Yes</td>\n",
              "      <td>Private</td>\n",
              "      <td>Urban</td>\n",
              "      <td>171.23</td>\n",
              "      <td>34.4</td>\n",
              "      <td>smokes</td>\n",
              "      <td>1</td>\n",
              "    </tr>\n",
              "    <tr>\n",
              "      <th>4</th>\n",
              "      <td>Female</td>\n",
              "      <td>79.0</td>\n",
              "      <td>1</td>\n",
              "      <td>0</td>\n",
              "      <td>Yes</td>\n",
              "      <td>Self-employed</td>\n",
              "      <td>Rural</td>\n",
              "      <td>174.12</td>\n",
              "      <td>24.0</td>\n",
              "      <td>never smoked</td>\n",
              "      <td>1</td>\n",
              "    </tr>\n",
              "  </tbody>\n",
              "</table>\n",
              "</div>"
            ],
            "text/plain": [
              "   gender   age  hypertension  ...   bmi   smoking_status stroke\n",
              "0    Male  67.0             0  ...  36.6  formerly smoked      1\n",
              "1  Female  61.0             0  ...   NaN     never smoked      1\n",
              "2    Male  80.0             0  ...  32.5     never smoked      1\n",
              "3  Female  49.0             0  ...  34.4           smokes      1\n",
              "4  Female  79.0             1  ...  24.0     never smoked      1\n",
              "\n",
              "[5 rows x 11 columns]"
            ]
          },
          "metadata": {
            "tags": []
          },
          "execution_count": 4
        }
      ]
    },
    {
      "cell_type": "markdown",
      "metadata": {
        "id": "fEiZmNfnY3Bv"
      },
      "source": [
        "Checking For NaN values"
      ]
    },
    {
      "cell_type": "code",
      "metadata": {
        "colab": {
          "base_uri": "https://localhost:8080/"
        },
        "id": "u9o6ernpY70p",
        "outputId": "47d74972-e88c-4e43-aa72-fd32da45c68d"
      },
      "source": [
        "data.isnull().sum() # We have 201 NaN values in \"bmi\" column"
      ],
      "execution_count": 5,
      "outputs": [
        {
          "output_type": "execute_result",
          "data": {
            "text/plain": [
              "id                     0\n",
              "gender                 0\n",
              "age                    0\n",
              "hypertension           0\n",
              "heart_disease          0\n",
              "ever_married           0\n",
              "work_type              0\n",
              "Residence_type         0\n",
              "avg_glucose_level      0\n",
              "bmi                  201\n",
              "smoking_status         0\n",
              "stroke                 0\n",
              "dtype: int64"
            ]
          },
          "metadata": {
            "tags": []
          },
          "execution_count": 5
        }
      ]
    },
    {
      "cell_type": "markdown",
      "metadata": {
        "id": "TQiFgZM6ZHsP"
      },
      "source": [
        "Replacing NaN values"
      ]
    },
    {
      "cell_type": "code",
      "metadata": {
        "colab": {
          "base_uri": "https://localhost:8080/"
        },
        "id": "MvWUcKVrZK4z",
        "outputId": "43f02b9a-26a8-4eda-eb56-a9fb469a8f0e"
      },
      "source": [
        "# Replacing NaN values with mean of the \"bmi\" column\r\n",
        "data[\"bmi\"].mean()"
      ],
      "execution_count": 6,
      "outputs": [
        {
          "output_type": "execute_result",
          "data": {
            "text/plain": [
              "28.893236911794673"
            ]
          },
          "metadata": {
            "tags": []
          },
          "execution_count": 6
        }
      ]
    },
    {
      "cell_type": "code",
      "metadata": {
        "id": "XLyLCyRsZ1rk"
      },
      "source": [
        "data_1[\"bmi\"] = data_1.fillna(data[\"bmi\"].mean()) # We replaced NaN values with mean of the \"bmi\" column"
      ],
      "execution_count": 9,
      "outputs": []
    },
    {
      "cell_type": "code",
      "metadata": {
        "colab": {
          "base_uri": "https://localhost:8080/"
        },
        "id": "uwhmAOWIaM9T",
        "outputId": "b90a24a7-2847-4f5e-d658-b4a78351113d"
      },
      "source": [
        "data_1.isnull().sum()"
      ],
      "execution_count": 10,
      "outputs": [
        {
          "output_type": "execute_result",
          "data": {
            "text/plain": [
              "gender               0\n",
              "age                  0\n",
              "hypertension         0\n",
              "heart_disease        0\n",
              "ever_married         0\n",
              "work_type            0\n",
              "Residence_type       0\n",
              "avg_glucose_level    0\n",
              "bmi                  0\n",
              "smoking_status       0\n",
              "stroke               0\n",
              "dtype: int64"
            ]
          },
          "metadata": {
            "tags": []
          },
          "execution_count": 10
        }
      ]
    },
    {
      "cell_type": "markdown",
      "metadata": {
        "id": "4z6fgHi6ajl8"
      },
      "source": [
        "Now, Encoding Categorical Features"
      ]
    },
    {
      "cell_type": "code",
      "metadata": {
        "colab": {
          "base_uri": "https://localhost:8080/",
          "height": 438
        },
        "id": "AhFpWFuLaoE_",
        "outputId": "00288ed4-14f0-4570-be4f-916a990bdfe2"
      },
      "source": [
        "x_features = data_1.columns\r\n",
        "encoded_data = pd.get_dummies(data_1[x_features],drop_first = True)\r\n",
        "encoded_data"
      ],
      "execution_count": 12,
      "outputs": [
        {
          "output_type": "execute_result",
          "data": {
            "text/html": [
              "<div>\n",
              "<style scoped>\n",
              "    .dataframe tbody tr th:only-of-type {\n",
              "        vertical-align: middle;\n",
              "    }\n",
              "\n",
              "    .dataframe tbody tr th {\n",
              "        vertical-align: top;\n",
              "    }\n",
              "\n",
              "    .dataframe thead th {\n",
              "        text-align: right;\n",
              "    }\n",
              "</style>\n",
              "<table border=\"1\" class=\"dataframe\">\n",
              "  <thead>\n",
              "    <tr style=\"text-align: right;\">\n",
              "      <th></th>\n",
              "      <th>age</th>\n",
              "      <th>hypertension</th>\n",
              "      <th>heart_disease</th>\n",
              "      <th>avg_glucose_level</th>\n",
              "      <th>stroke</th>\n",
              "      <th>gender_Male</th>\n",
              "      <th>gender_Other</th>\n",
              "      <th>ever_married_Yes</th>\n",
              "      <th>work_type_Never_worked</th>\n",
              "      <th>work_type_Private</th>\n",
              "      <th>work_type_Self-employed</th>\n",
              "      <th>work_type_children</th>\n",
              "      <th>Residence_type_Urban</th>\n",
              "      <th>bmi_Male</th>\n",
              "      <th>bmi_Other</th>\n",
              "      <th>smoking_status_formerly smoked</th>\n",
              "      <th>smoking_status_never smoked</th>\n",
              "      <th>smoking_status_smokes</th>\n",
              "    </tr>\n",
              "  </thead>\n",
              "  <tbody>\n",
              "    <tr>\n",
              "      <th>0</th>\n",
              "      <td>67.0</td>\n",
              "      <td>0</td>\n",
              "      <td>1</td>\n",
              "      <td>228.69</td>\n",
              "      <td>1</td>\n",
              "      <td>1</td>\n",
              "      <td>0</td>\n",
              "      <td>1</td>\n",
              "      <td>0</td>\n",
              "      <td>1</td>\n",
              "      <td>0</td>\n",
              "      <td>0</td>\n",
              "      <td>1</td>\n",
              "      <td>1</td>\n",
              "      <td>0</td>\n",
              "      <td>1</td>\n",
              "      <td>0</td>\n",
              "      <td>0</td>\n",
              "    </tr>\n",
              "    <tr>\n",
              "      <th>1</th>\n",
              "      <td>61.0</td>\n",
              "      <td>0</td>\n",
              "      <td>0</td>\n",
              "      <td>202.21</td>\n",
              "      <td>1</td>\n",
              "      <td>0</td>\n",
              "      <td>0</td>\n",
              "      <td>1</td>\n",
              "      <td>0</td>\n",
              "      <td>0</td>\n",
              "      <td>1</td>\n",
              "      <td>0</td>\n",
              "      <td>0</td>\n",
              "      <td>0</td>\n",
              "      <td>0</td>\n",
              "      <td>0</td>\n",
              "      <td>1</td>\n",
              "      <td>0</td>\n",
              "    </tr>\n",
              "    <tr>\n",
              "      <th>2</th>\n",
              "      <td>80.0</td>\n",
              "      <td>0</td>\n",
              "      <td>1</td>\n",
              "      <td>105.92</td>\n",
              "      <td>1</td>\n",
              "      <td>1</td>\n",
              "      <td>0</td>\n",
              "      <td>1</td>\n",
              "      <td>0</td>\n",
              "      <td>1</td>\n",
              "      <td>0</td>\n",
              "      <td>0</td>\n",
              "      <td>0</td>\n",
              "      <td>1</td>\n",
              "      <td>0</td>\n",
              "      <td>0</td>\n",
              "      <td>1</td>\n",
              "      <td>0</td>\n",
              "    </tr>\n",
              "    <tr>\n",
              "      <th>3</th>\n",
              "      <td>49.0</td>\n",
              "      <td>0</td>\n",
              "      <td>0</td>\n",
              "      <td>171.23</td>\n",
              "      <td>1</td>\n",
              "      <td>0</td>\n",
              "      <td>0</td>\n",
              "      <td>1</td>\n",
              "      <td>0</td>\n",
              "      <td>1</td>\n",
              "      <td>0</td>\n",
              "      <td>0</td>\n",
              "      <td>1</td>\n",
              "      <td>0</td>\n",
              "      <td>0</td>\n",
              "      <td>0</td>\n",
              "      <td>0</td>\n",
              "      <td>1</td>\n",
              "    </tr>\n",
              "    <tr>\n",
              "      <th>4</th>\n",
              "      <td>79.0</td>\n",
              "      <td>1</td>\n",
              "      <td>0</td>\n",
              "      <td>174.12</td>\n",
              "      <td>1</td>\n",
              "      <td>0</td>\n",
              "      <td>0</td>\n",
              "      <td>1</td>\n",
              "      <td>0</td>\n",
              "      <td>0</td>\n",
              "      <td>1</td>\n",
              "      <td>0</td>\n",
              "      <td>0</td>\n",
              "      <td>0</td>\n",
              "      <td>0</td>\n",
              "      <td>0</td>\n",
              "      <td>1</td>\n",
              "      <td>0</td>\n",
              "    </tr>\n",
              "    <tr>\n",
              "      <th>...</th>\n",
              "      <td>...</td>\n",
              "      <td>...</td>\n",
              "      <td>...</td>\n",
              "      <td>...</td>\n",
              "      <td>...</td>\n",
              "      <td>...</td>\n",
              "      <td>...</td>\n",
              "      <td>...</td>\n",
              "      <td>...</td>\n",
              "      <td>...</td>\n",
              "      <td>...</td>\n",
              "      <td>...</td>\n",
              "      <td>...</td>\n",
              "      <td>...</td>\n",
              "      <td>...</td>\n",
              "      <td>...</td>\n",
              "      <td>...</td>\n",
              "      <td>...</td>\n",
              "    </tr>\n",
              "    <tr>\n",
              "      <th>5105</th>\n",
              "      <td>80.0</td>\n",
              "      <td>1</td>\n",
              "      <td>0</td>\n",
              "      <td>83.75</td>\n",
              "      <td>0</td>\n",
              "      <td>0</td>\n",
              "      <td>0</td>\n",
              "      <td>1</td>\n",
              "      <td>0</td>\n",
              "      <td>1</td>\n",
              "      <td>0</td>\n",
              "      <td>0</td>\n",
              "      <td>1</td>\n",
              "      <td>0</td>\n",
              "      <td>0</td>\n",
              "      <td>0</td>\n",
              "      <td>1</td>\n",
              "      <td>0</td>\n",
              "    </tr>\n",
              "    <tr>\n",
              "      <th>5106</th>\n",
              "      <td>81.0</td>\n",
              "      <td>0</td>\n",
              "      <td>0</td>\n",
              "      <td>125.20</td>\n",
              "      <td>0</td>\n",
              "      <td>0</td>\n",
              "      <td>0</td>\n",
              "      <td>1</td>\n",
              "      <td>0</td>\n",
              "      <td>0</td>\n",
              "      <td>1</td>\n",
              "      <td>0</td>\n",
              "      <td>1</td>\n",
              "      <td>0</td>\n",
              "      <td>0</td>\n",
              "      <td>0</td>\n",
              "      <td>1</td>\n",
              "      <td>0</td>\n",
              "    </tr>\n",
              "    <tr>\n",
              "      <th>5107</th>\n",
              "      <td>35.0</td>\n",
              "      <td>0</td>\n",
              "      <td>0</td>\n",
              "      <td>82.99</td>\n",
              "      <td>0</td>\n",
              "      <td>0</td>\n",
              "      <td>0</td>\n",
              "      <td>1</td>\n",
              "      <td>0</td>\n",
              "      <td>0</td>\n",
              "      <td>1</td>\n",
              "      <td>0</td>\n",
              "      <td>0</td>\n",
              "      <td>0</td>\n",
              "      <td>0</td>\n",
              "      <td>0</td>\n",
              "      <td>1</td>\n",
              "      <td>0</td>\n",
              "    </tr>\n",
              "    <tr>\n",
              "      <th>5108</th>\n",
              "      <td>51.0</td>\n",
              "      <td>0</td>\n",
              "      <td>0</td>\n",
              "      <td>166.29</td>\n",
              "      <td>0</td>\n",
              "      <td>1</td>\n",
              "      <td>0</td>\n",
              "      <td>1</td>\n",
              "      <td>0</td>\n",
              "      <td>1</td>\n",
              "      <td>0</td>\n",
              "      <td>0</td>\n",
              "      <td>0</td>\n",
              "      <td>1</td>\n",
              "      <td>0</td>\n",
              "      <td>1</td>\n",
              "      <td>0</td>\n",
              "      <td>0</td>\n",
              "    </tr>\n",
              "    <tr>\n",
              "      <th>5109</th>\n",
              "      <td>44.0</td>\n",
              "      <td>0</td>\n",
              "      <td>0</td>\n",
              "      <td>85.28</td>\n",
              "      <td>0</td>\n",
              "      <td>0</td>\n",
              "      <td>0</td>\n",
              "      <td>1</td>\n",
              "      <td>0</td>\n",
              "      <td>0</td>\n",
              "      <td>0</td>\n",
              "      <td>0</td>\n",
              "      <td>1</td>\n",
              "      <td>0</td>\n",
              "      <td>0</td>\n",
              "      <td>0</td>\n",
              "      <td>0</td>\n",
              "      <td>0</td>\n",
              "    </tr>\n",
              "  </tbody>\n",
              "</table>\n",
              "<p>5110 rows × 18 columns</p>\n",
              "</div>"
            ],
            "text/plain": [
              "       age  hypertension  ...  smoking_status_never smoked  smoking_status_smokes\n",
              "0     67.0             0  ...                            0                      0\n",
              "1     61.0             0  ...                            1                      0\n",
              "2     80.0             0  ...                            1                      0\n",
              "3     49.0             0  ...                            0                      1\n",
              "4     79.0             1  ...                            1                      0\n",
              "...    ...           ...  ...                          ...                    ...\n",
              "5105  80.0             1  ...                            1                      0\n",
              "5106  81.0             0  ...                            1                      0\n",
              "5107  35.0             0  ...                            1                      0\n",
              "5108  51.0             0  ...                            0                      0\n",
              "5109  44.0             0  ...                            0                      0\n",
              "\n",
              "[5110 rows x 18 columns]"
            ]
          },
          "metadata": {
            "tags": []
          },
          "execution_count": 12
        }
      ]
    },
    {
      "cell_type": "code",
      "metadata": {
        "id": "YaT6KYH0a2nF"
      },
      "source": [
        "x = encoded_data.loc[:,encoded_data.columns != \"smoking_status_smokes\"]\r\n",
        "y = encoded_data[\"smoking_status_smokes\"]\r\n",
        "x_train,x_test,y_train,y_test = train_test_split(x,y,test_size = 0.3,random_state = 42)"
      ],
      "execution_count": 13,
      "outputs": []
    },
    {
      "cell_type": "markdown",
      "metadata": {
        "id": "b4bfEOYmbcoi"
      },
      "source": [
        "Building Neural Network"
      ]
    },
    {
      "cell_type": "code",
      "metadata": {
        "colab": {
          "base_uri": "https://localhost:8080/"
        },
        "id": "wySAC4pWbgi1",
        "outputId": "2d124b2f-440b-46ce-e008-533e87cccfdd"
      },
      "source": [
        "x_train.shape"
      ],
      "execution_count": 14,
      "outputs": [
        {
          "output_type": "execute_result",
          "data": {
            "text/plain": [
              "(3577, 17)"
            ]
          },
          "metadata": {
            "tags": []
          },
          "execution_count": 14
        }
      ]
    },
    {
      "cell_type": "code",
      "metadata": {
        "id": "69m3SGqgcft3"
      },
      "source": [
        "# Standardization of the data\r\n",
        "scaler = StandardScaler()\r\n",
        "x_train = scaler.fit_transform(x_train)\r\n",
        "x_test = scaler.transform(x_test)"
      ],
      "execution_count": 22,
      "outputs": []
    },
    {
      "cell_type": "code",
      "metadata": {
        "id": "JUogW-wVbklz"
      },
      "source": [
        "model = keras.Sequential([\r\n",
        "                          layers.Dense(32,activation = \"relu\",name = \"layer1\"),\r\n",
        "                          layers.Dense(32,activation = \"relu\",name = \"layer2\"),\r\n",
        "                          layers.Dense(1,activation = \"sigmoid\",name = \"layer3\"),\r\n",
        "])"
      ],
      "execution_count": 18,
      "outputs": []
    },
    {
      "cell_type": "code",
      "metadata": {
        "colab": {
          "base_uri": "https://localhost:8080/"
        },
        "id": "cUKgvDKZcNhE",
        "outputId": "1626fa56-8690-4c52-9c50-667840131c90"
      },
      "source": [
        "# Compiling the model\r\n",
        "model.compile(optimizer=\"Adam\",loss = \"binary_crossentropy\",metrics = [\"accuracy\"])\r\n",
        "model.fit(x_train,y_train,validation_split = 0.3,batch_size = 100,epochs = 100) "
      ],
      "execution_count": 24,
      "outputs": [
        {
          "output_type": "stream",
          "text": [
            "Epoch 1/100\n",
            "26/26 [==============================] - 1s 9ms/step - loss: 0.2199 - accuracy: 0.8695 - val_loss: 0.2168 - val_accuracy: 0.8613\n",
            "Epoch 2/100\n",
            "26/26 [==============================] - 0s 3ms/step - loss: 0.2143 - accuracy: 0.8758 - val_loss: 0.2154 - val_accuracy: 0.8641\n",
            "Epoch 3/100\n",
            "26/26 [==============================] - 0s 3ms/step - loss: 0.2271 - accuracy: 0.8692 - val_loss: 0.2166 - val_accuracy: 0.8529\n",
            "Epoch 4/100\n",
            "26/26 [==============================] - 0s 3ms/step - loss: 0.2254 - accuracy: 0.8680 - val_loss: 0.2152 - val_accuracy: 0.8575\n",
            "Epoch 5/100\n",
            "26/26 [==============================] - 0s 3ms/step - loss: 0.2239 - accuracy: 0.8648 - val_loss: 0.2169 - val_accuracy: 0.8585\n",
            "Epoch 6/100\n",
            "26/26 [==============================] - 0s 3ms/step - loss: 0.2229 - accuracy: 0.8712 - val_loss: 0.2150 - val_accuracy: 0.8622\n",
            "Epoch 7/100\n",
            "26/26 [==============================] - 0s 3ms/step - loss: 0.2158 - accuracy: 0.8631 - val_loss: 0.2142 - val_accuracy: 0.8613\n",
            "Epoch 8/100\n",
            "26/26 [==============================] - 0s 3ms/step - loss: 0.2092 - accuracy: 0.8771 - val_loss: 0.2148 - val_accuracy: 0.8613\n",
            "Epoch 9/100\n",
            "26/26 [==============================] - 0s 3ms/step - loss: 0.2198 - accuracy: 0.8683 - val_loss: 0.2147 - val_accuracy: 0.8622\n",
            "Epoch 10/100\n",
            "26/26 [==============================] - 0s 3ms/step - loss: 0.2151 - accuracy: 0.8704 - val_loss: 0.2131 - val_accuracy: 0.8613\n",
            "Epoch 11/100\n",
            "26/26 [==============================] - 0s 3ms/step - loss: 0.2135 - accuracy: 0.8731 - val_loss: 0.2157 - val_accuracy: 0.8594\n",
            "Epoch 12/100\n",
            "26/26 [==============================] - 0s 3ms/step - loss: 0.2269 - accuracy: 0.8639 - val_loss: 0.2149 - val_accuracy: 0.8547\n",
            "Epoch 13/100\n",
            "26/26 [==============================] - 0s 3ms/step - loss: 0.2309 - accuracy: 0.8635 - val_loss: 0.2158 - val_accuracy: 0.8529\n",
            "Epoch 14/100\n",
            "26/26 [==============================] - 0s 3ms/step - loss: 0.2167 - accuracy: 0.8713 - val_loss: 0.2154 - val_accuracy: 0.8566\n",
            "Epoch 15/100\n",
            "26/26 [==============================] - 0s 3ms/step - loss: 0.2219 - accuracy: 0.8616 - val_loss: 0.2144 - val_accuracy: 0.8622\n",
            "Epoch 16/100\n",
            "26/26 [==============================] - 0s 3ms/step - loss: 0.2206 - accuracy: 0.8647 - val_loss: 0.2139 - val_accuracy: 0.8669\n",
            "Epoch 17/100\n",
            "26/26 [==============================] - 0s 3ms/step - loss: 0.2147 - accuracy: 0.8789 - val_loss: 0.2151 - val_accuracy: 0.8603\n",
            "Epoch 18/100\n",
            "26/26 [==============================] - 0s 3ms/step - loss: 0.2184 - accuracy: 0.8749 - val_loss: 0.2171 - val_accuracy: 0.8659\n",
            "Epoch 19/100\n",
            "26/26 [==============================] - 0s 3ms/step - loss: 0.2121 - accuracy: 0.8802 - val_loss: 0.2146 - val_accuracy: 0.8622\n",
            "Epoch 20/100\n",
            "26/26 [==============================] - 0s 3ms/step - loss: 0.2213 - accuracy: 0.8829 - val_loss: 0.2127 - val_accuracy: 0.8622\n",
            "Epoch 21/100\n",
            "26/26 [==============================] - 0s 3ms/step - loss: 0.2127 - accuracy: 0.8801 - val_loss: 0.2142 - val_accuracy: 0.8641\n",
            "Epoch 22/100\n",
            "26/26 [==============================] - 0s 3ms/step - loss: 0.2175 - accuracy: 0.8755 - val_loss: 0.2174 - val_accuracy: 0.8603\n",
            "Epoch 23/100\n",
            "26/26 [==============================] - 0s 3ms/step - loss: 0.2113 - accuracy: 0.8757 - val_loss: 0.2201 - val_accuracy: 0.8575\n",
            "Epoch 24/100\n",
            "26/26 [==============================] - 0s 3ms/step - loss: 0.2109 - accuracy: 0.8752 - val_loss: 0.2185 - val_accuracy: 0.8594\n",
            "Epoch 25/100\n",
            "26/26 [==============================] - 0s 3ms/step - loss: 0.2105 - accuracy: 0.8791 - val_loss: 0.2170 - val_accuracy: 0.8613\n",
            "Epoch 26/100\n",
            "26/26 [==============================] - 0s 3ms/step - loss: 0.2166 - accuracy: 0.8815 - val_loss: 0.2171 - val_accuracy: 0.8641\n",
            "Epoch 27/100\n",
            "26/26 [==============================] - 0s 3ms/step - loss: 0.2147 - accuracy: 0.8814 - val_loss: 0.2164 - val_accuracy: 0.8622\n",
            "Epoch 28/100\n",
            "26/26 [==============================] - 0s 3ms/step - loss: 0.2034 - accuracy: 0.8788 - val_loss: 0.2169 - val_accuracy: 0.8613\n",
            "Epoch 29/100\n",
            "26/26 [==============================] - 0s 3ms/step - loss: 0.2103 - accuracy: 0.8805 - val_loss: 0.2184 - val_accuracy: 0.8603\n",
            "Epoch 30/100\n",
            "26/26 [==============================] - 0s 3ms/step - loss: 0.2104 - accuracy: 0.8844 - val_loss: 0.2192 - val_accuracy: 0.8613\n",
            "Epoch 31/100\n",
            "26/26 [==============================] - 0s 3ms/step - loss: 0.2129 - accuracy: 0.8741 - val_loss: 0.2194 - val_accuracy: 0.8585\n",
            "Epoch 32/100\n",
            "26/26 [==============================] - 0s 3ms/step - loss: 0.2154 - accuracy: 0.8616 - val_loss: 0.2181 - val_accuracy: 0.8622\n",
            "Epoch 33/100\n",
            "26/26 [==============================] - 0s 3ms/step - loss: 0.2102 - accuracy: 0.8842 - val_loss: 0.2191 - val_accuracy: 0.8575\n",
            "Epoch 34/100\n",
            "26/26 [==============================] - 0s 3ms/step - loss: 0.2111 - accuracy: 0.8786 - val_loss: 0.2187 - val_accuracy: 0.8575\n",
            "Epoch 35/100\n",
            "26/26 [==============================] - 0s 3ms/step - loss: 0.2163 - accuracy: 0.8756 - val_loss: 0.2169 - val_accuracy: 0.8585\n",
            "Epoch 36/100\n",
            "26/26 [==============================] - 0s 3ms/step - loss: 0.2137 - accuracy: 0.8785 - val_loss: 0.2178 - val_accuracy: 0.8603\n",
            "Epoch 37/100\n",
            "26/26 [==============================] - 0s 3ms/step - loss: 0.2111 - accuracy: 0.8809 - val_loss: 0.2192 - val_accuracy: 0.8603\n",
            "Epoch 38/100\n",
            "26/26 [==============================] - 0s 3ms/step - loss: 0.2054 - accuracy: 0.8897 - val_loss: 0.2191 - val_accuracy: 0.8566\n",
            "Epoch 39/100\n",
            "26/26 [==============================] - 0s 3ms/step - loss: 0.2177 - accuracy: 0.8714 - val_loss: 0.2190 - val_accuracy: 0.8613\n",
            "Epoch 40/100\n",
            "26/26 [==============================] - 0s 4ms/step - loss: 0.2139 - accuracy: 0.8791 - val_loss: 0.2193 - val_accuracy: 0.8641\n",
            "Epoch 41/100\n",
            "26/26 [==============================] - 0s 4ms/step - loss: 0.2005 - accuracy: 0.8878 - val_loss: 0.2179 - val_accuracy: 0.8613\n",
            "Epoch 42/100\n",
            "26/26 [==============================] - 0s 3ms/step - loss: 0.2104 - accuracy: 0.8766 - val_loss: 0.2167 - val_accuracy: 0.8631\n",
            "Epoch 43/100\n",
            "26/26 [==============================] - 0s 3ms/step - loss: 0.2049 - accuracy: 0.8815 - val_loss: 0.2161 - val_accuracy: 0.8650\n",
            "Epoch 44/100\n",
            "26/26 [==============================] - 0s 3ms/step - loss: 0.2054 - accuracy: 0.8837 - val_loss: 0.2164 - val_accuracy: 0.8631\n",
            "Epoch 45/100\n",
            "26/26 [==============================] - 0s 3ms/step - loss: 0.2075 - accuracy: 0.8873 - val_loss: 0.2178 - val_accuracy: 0.8603\n",
            "Epoch 46/100\n",
            "26/26 [==============================] - 0s 3ms/step - loss: 0.2107 - accuracy: 0.8707 - val_loss: 0.2210 - val_accuracy: 0.8613\n",
            "Epoch 47/100\n",
            "26/26 [==============================] - 0s 3ms/step - loss: 0.1996 - accuracy: 0.8791 - val_loss: 0.2212 - val_accuracy: 0.8641\n",
            "Epoch 48/100\n",
            "26/26 [==============================] - 0s 3ms/step - loss: 0.2103 - accuracy: 0.8804 - val_loss: 0.2218 - val_accuracy: 0.8622\n",
            "Epoch 49/100\n",
            "26/26 [==============================] - 0s 3ms/step - loss: 0.2033 - accuracy: 0.8831 - val_loss: 0.2198 - val_accuracy: 0.8603\n",
            "Epoch 50/100\n",
            "26/26 [==============================] - 0s 3ms/step - loss: 0.2085 - accuracy: 0.8844 - val_loss: 0.2197 - val_accuracy: 0.8631\n",
            "Epoch 51/100\n",
            "26/26 [==============================] - 0s 3ms/step - loss: 0.2086 - accuracy: 0.8818 - val_loss: 0.2217 - val_accuracy: 0.8613\n",
            "Epoch 52/100\n",
            "26/26 [==============================] - 0s 3ms/step - loss: 0.2208 - accuracy: 0.8720 - val_loss: 0.2199 - val_accuracy: 0.8641\n",
            "Epoch 53/100\n",
            "26/26 [==============================] - 0s 3ms/step - loss: 0.2032 - accuracy: 0.8906 - val_loss: 0.2205 - val_accuracy: 0.8594\n",
            "Epoch 54/100\n",
            "26/26 [==============================] - 0s 3ms/step - loss: 0.1975 - accuracy: 0.8941 - val_loss: 0.2206 - val_accuracy: 0.8631\n",
            "Epoch 55/100\n",
            "26/26 [==============================] - 0s 3ms/step - loss: 0.2074 - accuracy: 0.8868 - val_loss: 0.2228 - val_accuracy: 0.8594\n",
            "Epoch 56/100\n",
            "26/26 [==============================] - 0s 3ms/step - loss: 0.2070 - accuracy: 0.8849 - val_loss: 0.2233 - val_accuracy: 0.8641\n",
            "Epoch 57/100\n",
            "26/26 [==============================] - 0s 3ms/step - loss: 0.2157 - accuracy: 0.8869 - val_loss: 0.2218 - val_accuracy: 0.8659\n",
            "Epoch 58/100\n",
            "26/26 [==============================] - 0s 3ms/step - loss: 0.2027 - accuracy: 0.8813 - val_loss: 0.2211 - val_accuracy: 0.8622\n",
            "Epoch 59/100\n",
            "26/26 [==============================] - 0s 3ms/step - loss: 0.2075 - accuracy: 0.8864 - val_loss: 0.2207 - val_accuracy: 0.8585\n",
            "Epoch 60/100\n",
            "26/26 [==============================] - 0s 3ms/step - loss: 0.2098 - accuracy: 0.8853 - val_loss: 0.2224 - val_accuracy: 0.8585\n",
            "Epoch 61/100\n",
            "26/26 [==============================] - 0s 3ms/step - loss: 0.2022 - accuracy: 0.8900 - val_loss: 0.2225 - val_accuracy: 0.8650\n",
            "Epoch 62/100\n",
            "26/26 [==============================] - 0s 3ms/step - loss: 0.2169 - accuracy: 0.8823 - val_loss: 0.2215 - val_accuracy: 0.8622\n",
            "Epoch 63/100\n",
            "26/26 [==============================] - 0s 3ms/step - loss: 0.2064 - accuracy: 0.8842 - val_loss: 0.2226 - val_accuracy: 0.8631\n",
            "Epoch 64/100\n",
            "26/26 [==============================] - 0s 3ms/step - loss: 0.2067 - accuracy: 0.8901 - val_loss: 0.2234 - val_accuracy: 0.8631\n",
            "Epoch 65/100\n",
            "26/26 [==============================] - 0s 3ms/step - loss: 0.2114 - accuracy: 0.8781 - val_loss: 0.2237 - val_accuracy: 0.8650\n",
            "Epoch 66/100\n",
            "26/26 [==============================] - 0s 3ms/step - loss: 0.1913 - accuracy: 0.9014 - val_loss: 0.2250 - val_accuracy: 0.8622\n",
            "Epoch 67/100\n",
            "26/26 [==============================] - 0s 3ms/step - loss: 0.2083 - accuracy: 0.8884 - val_loss: 0.2242 - val_accuracy: 0.8603\n",
            "Epoch 68/100\n",
            "26/26 [==============================] - 0s 3ms/step - loss: 0.2053 - accuracy: 0.8873 - val_loss: 0.2218 - val_accuracy: 0.8631\n",
            "Epoch 69/100\n",
            "26/26 [==============================] - 0s 3ms/step - loss: 0.1953 - accuracy: 0.9001 - val_loss: 0.2243 - val_accuracy: 0.8594\n",
            "Epoch 70/100\n",
            "26/26 [==============================] - 0s 3ms/step - loss: 0.2106 - accuracy: 0.8794 - val_loss: 0.2347 - val_accuracy: 0.8575\n",
            "Epoch 71/100\n",
            "26/26 [==============================] - 0s 4ms/step - loss: 0.2035 - accuracy: 0.8832 - val_loss: 0.2312 - val_accuracy: 0.8547\n",
            "Epoch 72/100\n",
            "26/26 [==============================] - 0s 3ms/step - loss: 0.2124 - accuracy: 0.8762 - val_loss: 0.2271 - val_accuracy: 0.8557\n",
            "Epoch 73/100\n",
            "26/26 [==============================] - 0s 3ms/step - loss: 0.2014 - accuracy: 0.8824 - val_loss: 0.2225 - val_accuracy: 0.8603\n",
            "Epoch 74/100\n",
            "26/26 [==============================] - 0s 3ms/step - loss: 0.2083 - accuracy: 0.8824 - val_loss: 0.2227 - val_accuracy: 0.8557\n",
            "Epoch 75/100\n",
            "26/26 [==============================] - 0s 3ms/step - loss: 0.2093 - accuracy: 0.8802 - val_loss: 0.2227 - val_accuracy: 0.8575\n",
            "Epoch 76/100\n",
            "26/26 [==============================] - 0s 3ms/step - loss: 0.2003 - accuracy: 0.8936 - val_loss: 0.2227 - val_accuracy: 0.8631\n",
            "Epoch 77/100\n",
            "26/26 [==============================] - 0s 3ms/step - loss: 0.1968 - accuracy: 0.8980 - val_loss: 0.2228 - val_accuracy: 0.8631\n",
            "Epoch 78/100\n",
            "26/26 [==============================] - 0s 3ms/step - loss: 0.2028 - accuracy: 0.8892 - val_loss: 0.2225 - val_accuracy: 0.8622\n",
            "Epoch 79/100\n",
            "26/26 [==============================] - 0s 3ms/step - loss: 0.1909 - accuracy: 0.8956 - val_loss: 0.2222 - val_accuracy: 0.8641\n",
            "Epoch 80/100\n",
            "26/26 [==============================] - 0s 3ms/step - loss: 0.2024 - accuracy: 0.8886 - val_loss: 0.2245 - val_accuracy: 0.8613\n",
            "Epoch 81/100\n",
            "26/26 [==============================] - 0s 3ms/step - loss: 0.2116 - accuracy: 0.8833 - val_loss: 0.2226 - val_accuracy: 0.8669\n",
            "Epoch 82/100\n",
            "26/26 [==============================] - 0s 4ms/step - loss: 0.1972 - accuracy: 0.8905 - val_loss: 0.2241 - val_accuracy: 0.8585\n",
            "Epoch 83/100\n",
            "26/26 [==============================] - 0s 3ms/step - loss: 0.2009 - accuracy: 0.8916 - val_loss: 0.2229 - val_accuracy: 0.8594\n",
            "Epoch 84/100\n",
            "26/26 [==============================] - 0s 3ms/step - loss: 0.2015 - accuracy: 0.8868 - val_loss: 0.2258 - val_accuracy: 0.8603\n",
            "Epoch 85/100\n",
            "26/26 [==============================] - 0s 3ms/step - loss: 0.1986 - accuracy: 0.8912 - val_loss: 0.2227 - val_accuracy: 0.8622\n",
            "Epoch 86/100\n",
            "26/26 [==============================] - 0s 3ms/step - loss: 0.1937 - accuracy: 0.8961 - val_loss: 0.2228 - val_accuracy: 0.8622\n",
            "Epoch 87/100\n",
            "26/26 [==============================] - 0s 3ms/step - loss: 0.2064 - accuracy: 0.8850 - val_loss: 0.2241 - val_accuracy: 0.8706\n",
            "Epoch 88/100\n",
            "26/26 [==============================] - 0s 3ms/step - loss: 0.2001 - accuracy: 0.8869 - val_loss: 0.2284 - val_accuracy: 0.8631\n",
            "Epoch 89/100\n",
            "26/26 [==============================] - 0s 3ms/step - loss: 0.2084 - accuracy: 0.8830 - val_loss: 0.2273 - val_accuracy: 0.8585\n",
            "Epoch 90/100\n",
            "26/26 [==============================] - 0s 3ms/step - loss: 0.1996 - accuracy: 0.8875 - val_loss: 0.2290 - val_accuracy: 0.8613\n",
            "Epoch 91/100\n",
            "26/26 [==============================] - 0s 3ms/step - loss: 0.2023 - accuracy: 0.8883 - val_loss: 0.2256 - val_accuracy: 0.8669\n",
            "Epoch 92/100\n",
            "26/26 [==============================] - 0s 3ms/step - loss: 0.2057 - accuracy: 0.8888 - val_loss: 0.2243 - val_accuracy: 0.8696\n",
            "Epoch 93/100\n",
            "26/26 [==============================] - 0s 3ms/step - loss: 0.2034 - accuracy: 0.8880 - val_loss: 0.2261 - val_accuracy: 0.8622\n",
            "Epoch 94/100\n",
            "26/26 [==============================] - 0s 4ms/step - loss: 0.1956 - accuracy: 0.8944 - val_loss: 0.2288 - val_accuracy: 0.8641\n",
            "Epoch 95/100\n",
            "26/26 [==============================] - 0s 3ms/step - loss: 0.2020 - accuracy: 0.8907 - val_loss: 0.2271 - val_accuracy: 0.8659\n",
            "Epoch 96/100\n",
            "26/26 [==============================] - 0s 3ms/step - loss: 0.2052 - accuracy: 0.8844 - val_loss: 0.2277 - val_accuracy: 0.8622\n",
            "Epoch 97/100\n",
            "26/26 [==============================] - 0s 3ms/step - loss: 0.1997 - accuracy: 0.8905 - val_loss: 0.2278 - val_accuracy: 0.8603\n",
            "Epoch 98/100\n",
            "26/26 [==============================] - 0s 3ms/step - loss: 0.1963 - accuracy: 0.8931 - val_loss: 0.2274 - val_accuracy: 0.8641\n",
            "Epoch 99/100\n",
            "26/26 [==============================] - 0s 3ms/step - loss: 0.1992 - accuracy: 0.9009 - val_loss: 0.2301 - val_accuracy: 0.8641\n",
            "Epoch 100/100\n",
            "26/26 [==============================] - 0s 3ms/step - loss: 0.2025 - accuracy: 0.8867 - val_loss: 0.2291 - val_accuracy: 0.8603\n"
          ],
          "name": "stdout"
        },
        {
          "output_type": "execute_result",
          "data": {
            "text/plain": [
              "<tensorflow.python.keras.callbacks.History at 0x7f9a91e47a10>"
            ]
          },
          "metadata": {
            "tags": []
          },
          "execution_count": 24
        }
      ]
    },
    {
      "cell_type": "code",
      "metadata": {
        "colab": {
          "base_uri": "https://localhost:8080/"
        },
        "id": "zes1LOBgdhvh",
        "outputId": "c627017f-9017-4a6b-c973-61de130411d7"
      },
      "source": [
        "y_pred = model.predict(x_test)\r\n",
        "y_pred.shape"
      ],
      "execution_count": 26,
      "outputs": [
        {
          "output_type": "execute_result",
          "data": {
            "text/plain": [
              "(1533, 1)"
            ]
          },
          "metadata": {
            "tags": []
          },
          "execution_count": 26
        }
      ]
    },
    {
      "cell_type": "code",
      "metadata": {
        "id": "lb4mLSaEdyWR"
      },
      "source": [
        "y_pred = y_pred > 0.5"
      ],
      "execution_count": 29,
      "outputs": []
    },
    {
      "cell_type": "code",
      "metadata": {
        "colab": {
          "base_uri": "https://localhost:8080/"
        },
        "id": "th8xt6did-xj",
        "outputId": "a00e30ba-bca6-43bf-f7e8-ba3506980094"
      },
      "source": [
        "metrics.accuracy_score(y_test,y_pred)"
      ],
      "execution_count": 30,
      "outputs": [
        {
          "output_type": "execute_result",
          "data": {
            "text/plain": [
              "0.8408349641226354"
            ]
          },
          "metadata": {
            "tags": []
          },
          "execution_count": 30
        }
      ]
    }
  ]
}